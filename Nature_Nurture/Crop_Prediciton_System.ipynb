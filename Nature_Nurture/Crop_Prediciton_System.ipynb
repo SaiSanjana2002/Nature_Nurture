{
 "cells": [
  {
   "cell_type": "markdown",
   "metadata": {},
   "source": [
    "# Data Preparation"
   ]
  },
  {
   "cell_type": "code",
   "execution_count": 1,
   "metadata": {},
   "outputs": [],
   "source": [
    "# loading the required libraries\n",
    "\n",
    "import numpy as np\n",
    "import pandas as pd\n",
    "import matplotlib.pyplot as plt\n",
    "import seaborn as sns\n",
    "\n",
    "import warnings\n",
    "warnings.filterwarnings('ignore')"
   ]
  },
  {
   "cell_type": "code",
   "execution_count": 2,
   "metadata": {},
   "outputs": [
    {
     "data": {
      "text/html": [
       "<div>\n",
       "<style scoped>\n",
       "    .dataframe tbody tr th:only-of-type {\n",
       "        vertical-align: middle;\n",
       "    }\n",
       "\n",
       "    .dataframe tbody tr th {\n",
       "        vertical-align: top;\n",
       "    }\n",
       "\n",
       "    .dataframe thead th {\n",
       "        text-align: right;\n",
       "    }\n",
       "</style>\n",
       "<table border=\"1\" class=\"dataframe\">\n",
       "  <thead>\n",
       "    <tr style=\"text-align: right;\">\n",
       "      <th></th>\n",
       "      <th>N</th>\n",
       "      <th>P</th>\n",
       "      <th>K</th>\n",
       "      <th>ph</th>\n",
       "      <th>crop</th>\n",
       "    </tr>\n",
       "  </thead>\n",
       "  <tbody>\n",
       "    <tr>\n",
       "      <th>0</th>\n",
       "      <td>358.73</td>\n",
       "      <td>12.85</td>\n",
       "      <td>176.25</td>\n",
       "      <td>5.62</td>\n",
       "      <td>arecanut</td>\n",
       "    </tr>\n",
       "    <tr>\n",
       "      <th>1</th>\n",
       "      <td>395.28</td>\n",
       "      <td>16.40</td>\n",
       "      <td>188.32</td>\n",
       "      <td>6.11</td>\n",
       "      <td>arecanut</td>\n",
       "    </tr>\n",
       "    <tr>\n",
       "      <th>2</th>\n",
       "      <td>361.19</td>\n",
       "      <td>11.33</td>\n",
       "      <td>151.52</td>\n",
       "      <td>5.68</td>\n",
       "      <td>arecanut</td>\n",
       "    </tr>\n",
       "    <tr>\n",
       "      <th>3</th>\n",
       "      <td>425.39</td>\n",
       "      <td>19.27</td>\n",
       "      <td>215.04</td>\n",
       "      <td>6.25</td>\n",
       "      <td>arecanut</td>\n",
       "    </tr>\n",
       "    <tr>\n",
       "      <th>4</th>\n",
       "      <td>371.52</td>\n",
       "      <td>17.73</td>\n",
       "      <td>147.99</td>\n",
       "      <td>5.96</td>\n",
       "      <td>arecanut</td>\n",
       "    </tr>\n",
       "  </tbody>\n",
       "</table>\n",
       "</div>"
      ],
      "text/plain": [
       "        N      P       K    ph      crop\n",
       "0  358.73  12.85  176.25  5.62  arecanut\n",
       "1  395.28  16.40  188.32  6.11  arecanut\n",
       "2  361.19  11.33  151.52  5.68  arecanut\n",
       "3  425.39  19.27  215.04  6.25  arecanut\n",
       "4  371.52  17.73  147.99  5.96  arecanut"
      ]
     },
     "execution_count": 2,
     "metadata": {},
     "output_type": "execute_result"
    }
   ],
   "source": [
    "# loading the dataset\n",
    "\n",
    "data = pd.read_csv(\"Crop_Data.csv\")\n",
    "data.head()"
   ]
  },
  {
   "cell_type": "markdown",
   "metadata": {},
   "source": [
    "# Data pre processing"
   ]
  },
  {
   "cell_type": "code",
   "execution_count": 3,
   "metadata": {},
   "outputs": [
    {
     "data": {
      "text/html": [
       "<div>\n",
       "<style scoped>\n",
       "    .dataframe tbody tr th:only-of-type {\n",
       "        vertical-align: middle;\n",
       "    }\n",
       "\n",
       "    .dataframe tbody tr th {\n",
       "        vertical-align: top;\n",
       "    }\n",
       "\n",
       "    .dataframe thead th {\n",
       "        text-align: right;\n",
       "    }\n",
       "</style>\n",
       "<table border=\"1\" class=\"dataframe\">\n",
       "  <thead>\n",
       "    <tr style=\"text-align: right;\">\n",
       "      <th></th>\n",
       "      <th>N</th>\n",
       "      <th>P</th>\n",
       "      <th>K</th>\n",
       "      <th>ph</th>\n",
       "    </tr>\n",
       "  </thead>\n",
       "  <tbody>\n",
       "    <tr>\n",
       "      <th>count</th>\n",
       "      <td>119.000000</td>\n",
       "      <td>119.000000</td>\n",
       "      <td>119.000000</td>\n",
       "      <td>119.000000</td>\n",
       "    </tr>\n",
       "    <tr>\n",
       "      <th>mean</th>\n",
       "      <td>308.783445</td>\n",
       "      <td>21.927479</td>\n",
       "      <td>220.217479</td>\n",
       "      <td>5.382941</td>\n",
       "    </tr>\n",
       "    <tr>\n",
       "      <th>std</th>\n",
       "      <td>76.628734</td>\n",
       "      <td>6.474879</td>\n",
       "      <td>144.426957</td>\n",
       "      <td>0.474376</td>\n",
       "    </tr>\n",
       "    <tr>\n",
       "      <th>min</th>\n",
       "      <td>125.400000</td>\n",
       "      <td>10.990000</td>\n",
       "      <td>115.850000</td>\n",
       "      <td>4.350000</td>\n",
       "    </tr>\n",
       "    <tr>\n",
       "      <th>25%</th>\n",
       "      <td>262.465000</td>\n",
       "      <td>17.810000</td>\n",
       "      <td>166.055000</td>\n",
       "      <td>4.915000</td>\n",
       "    </tr>\n",
       "    <tr>\n",
       "      <th>50%</th>\n",
       "      <td>313.660000</td>\n",
       "      <td>21.250000</td>\n",
       "      <td>208.320000</td>\n",
       "      <td>5.460000</td>\n",
       "    </tr>\n",
       "    <tr>\n",
       "      <th>75%</th>\n",
       "      <td>355.515000</td>\n",
       "      <td>24.410000</td>\n",
       "      <td>245.930000</td>\n",
       "      <td>5.750000</td>\n",
       "    </tr>\n",
       "    <tr>\n",
       "      <th>max</th>\n",
       "      <td>544.260000</td>\n",
       "      <td>48.730000</td>\n",
       "      <td>1693.890000</td>\n",
       "      <td>6.480000</td>\n",
       "    </tr>\n",
       "  </tbody>\n",
       "</table>\n",
       "</div>"
      ],
      "text/plain": [
       "                N           P            K          ph\n",
       "count  119.000000  119.000000   119.000000  119.000000\n",
       "mean   308.783445   21.927479   220.217479    5.382941\n",
       "std     76.628734    6.474879   144.426957    0.474376\n",
       "min    125.400000   10.990000   115.850000    4.350000\n",
       "25%    262.465000   17.810000   166.055000    4.915000\n",
       "50%    313.660000   21.250000   208.320000    5.460000\n",
       "75%    355.515000   24.410000   245.930000    5.750000\n",
       "max    544.260000   48.730000  1693.890000    6.480000"
      ]
     },
     "execution_count": 3,
     "metadata": {},
     "output_type": "execute_result"
    }
   ],
   "source": [
    "data.describe()"
   ]
  },
  {
   "cell_type": "code",
   "execution_count": 4,
   "metadata": {},
   "outputs": [
    {
     "data": {
      "text/plain": [
       "(119, 5)"
      ]
     },
     "execution_count": 4,
     "metadata": {},
     "output_type": "execute_result"
    }
   ],
   "source": [
    "data.shape"
   ]
  },
  {
   "cell_type": "code",
   "execution_count": 5,
   "metadata": {},
   "outputs": [
    {
     "name": "stdout",
     "output_type": "stream",
     "text": [
      "<class 'pandas.core.frame.DataFrame'>\n",
      "RangeIndex: 119 entries, 0 to 118\n",
      "Data columns (total 5 columns):\n",
      " #   Column  Non-Null Count  Dtype  \n",
      "---  ------  --------------  -----  \n",
      " 0   N       119 non-null    float64\n",
      " 1   P       119 non-null    float64\n",
      " 2   K       119 non-null    float64\n",
      " 3   ph      119 non-null    float64\n",
      " 4   crop    119 non-null    object \n",
      "dtypes: float64(4), object(1)\n",
      "memory usage: 4.8+ KB\n"
     ]
    }
   ],
   "source": [
    "data.info()"
   ]
  },
  {
   "cell_type": "code",
   "execution_count": 6,
   "metadata": {},
   "outputs": [
    {
     "data": {
      "text/html": [
       "<div>\n",
       "<style scoped>\n",
       "    .dataframe tbody tr th:only-of-type {\n",
       "        vertical-align: middle;\n",
       "    }\n",
       "\n",
       "    .dataframe tbody tr th {\n",
       "        vertical-align: top;\n",
       "    }\n",
       "\n",
       "    .dataframe thead th {\n",
       "        text-align: right;\n",
       "    }\n",
       "</style>\n",
       "<table border=\"1\" class=\"dataframe\">\n",
       "  <thead>\n",
       "    <tr style=\"text-align: right;\">\n",
       "      <th></th>\n",
       "      <th>N</th>\n",
       "      <th>P</th>\n",
       "      <th>K</th>\n",
       "      <th>ph</th>\n",
       "      <th>crop</th>\n",
       "    </tr>\n",
       "  </thead>\n",
       "  <tbody>\n",
       "    <tr>\n",
       "      <th>0</th>\n",
       "      <td>358.73</td>\n",
       "      <td>12.85</td>\n",
       "      <td>176.25</td>\n",
       "      <td>5.62</td>\n",
       "      <td>arecanut</td>\n",
       "    </tr>\n",
       "    <tr>\n",
       "      <th>1</th>\n",
       "      <td>395.28</td>\n",
       "      <td>16.40</td>\n",
       "      <td>188.32</td>\n",
       "      <td>6.11</td>\n",
       "      <td>arecanut</td>\n",
       "    </tr>\n",
       "    <tr>\n",
       "      <th>2</th>\n",
       "      <td>361.19</td>\n",
       "      <td>11.33</td>\n",
       "      <td>151.52</td>\n",
       "      <td>5.68</td>\n",
       "      <td>arecanut</td>\n",
       "    </tr>\n",
       "    <tr>\n",
       "      <th>3</th>\n",
       "      <td>425.39</td>\n",
       "      <td>19.27</td>\n",
       "      <td>215.04</td>\n",
       "      <td>6.25</td>\n",
       "      <td>arecanut</td>\n",
       "    </tr>\n",
       "    <tr>\n",
       "      <th>4</th>\n",
       "      <td>371.52</td>\n",
       "      <td>17.73</td>\n",
       "      <td>147.99</td>\n",
       "      <td>5.96</td>\n",
       "      <td>arecanut</td>\n",
       "    </tr>\n",
       "    <tr>\n",
       "      <th>...</th>\n",
       "      <td>...</td>\n",
       "      <td>...</td>\n",
       "      <td>...</td>\n",
       "      <td>...</td>\n",
       "      <td>...</td>\n",
       "    </tr>\n",
       "    <tr>\n",
       "      <th>114</th>\n",
       "      <td>396.77</td>\n",
       "      <td>17.72</td>\n",
       "      <td>172.25</td>\n",
       "      <td>5.93</td>\n",
       "      <td>rubber</td>\n",
       "    </tr>\n",
       "    <tr>\n",
       "      <th>115</th>\n",
       "      <td>359.72</td>\n",
       "      <td>27.55</td>\n",
       "      <td>148.23</td>\n",
       "      <td>6.05</td>\n",
       "      <td>rubber</td>\n",
       "    </tr>\n",
       "    <tr>\n",
       "      <th>116</th>\n",
       "      <td>320.63</td>\n",
       "      <td>21.50</td>\n",
       "      <td>233.87</td>\n",
       "      <td>6.14</td>\n",
       "      <td>rubber</td>\n",
       "    </tr>\n",
       "    <tr>\n",
       "      <th>117</th>\n",
       "      <td>265.15</td>\n",
       "      <td>22.34</td>\n",
       "      <td>214.15</td>\n",
       "      <td>5.88</td>\n",
       "      <td>rubber</td>\n",
       "    </tr>\n",
       "    <tr>\n",
       "      <th>118</th>\n",
       "      <td>312.23</td>\n",
       "      <td>28.82</td>\n",
       "      <td>194.26</td>\n",
       "      <td>6.18</td>\n",
       "      <td>rubber</td>\n",
       "    </tr>\n",
       "  </tbody>\n",
       "</table>\n",
       "<p>119 rows × 5 columns</p>\n",
       "</div>"
      ],
      "text/plain": [
       "          N      P       K    ph      crop\n",
       "0    358.73  12.85  176.25  5.62  arecanut\n",
       "1    395.28  16.40  188.32  6.11  arecanut\n",
       "2    361.19  11.33  151.52  5.68  arecanut\n",
       "3    425.39  19.27  215.04  6.25  arecanut\n",
       "4    371.52  17.73  147.99  5.96  arecanut\n",
       "..      ...    ...     ...   ...       ...\n",
       "114  396.77  17.72  172.25  5.93    rubber\n",
       "115  359.72  27.55  148.23  6.05    rubber\n",
       "116  320.63  21.50  233.87  6.14    rubber\n",
       "117  265.15  22.34  214.15  5.88    rubber\n",
       "118  312.23  28.82  194.26  6.18    rubber\n",
       "\n",
       "[119 rows x 5 columns]"
      ]
     },
     "execution_count": 6,
     "metadata": {},
     "output_type": "execute_result"
    }
   ],
   "source": [
    "data"
   ]
  },
  {
   "cell_type": "code",
   "execution_count": 7,
   "metadata": {},
   "outputs": [
    {
     "data": {
      "text/plain": [
       "<seaborn.axisgrid.PairGrid at 0x142388a8730>"
      ]
     },
     "execution_count": 7,
     "metadata": {},
     "output_type": "execute_result"
    },
    {
     "data": {
      "image/png": "[encoded data removed]",
      "text/plain": [
       "<Figure size 720x720 with 20 Axes>"
      ]
     },
     "metadata": {
      "needs_background": "light"
     },
     "output_type": "display_data"
    }
   ],
   "source": [
    "sns.pairplot(data)"
   ]
  },
  {
   "cell_type": "code",
   "execution_count": 8,
   "metadata": {},
   "outputs": [
    {
     "data": {
      "text/plain": [
       "<matplotlib.axes._subplots.AxesSubplot at 0x1423b1f02b0>"
      ]
     },
     "execution_count": 8,
     "metadata": {},
     "output_type": "execute_result"
    },
    {
     "data": {
      "image/png": "[encoded data removed]",
      "text/plain": [
       "<Figure size 432x288 with 2 Axes>"
      ]
     },
     "metadata": {
      "needs_background": "light"
     },
     "output_type": "display_data"
    }
   ],
   "source": [
    "com=data.corr()\n",
    "sns.heatmap(com,annot=True)"
   ]
  },
  {
   "cell_type": "code",
   "execution_count": 9,
   "metadata": {},
   "outputs": [
    {
     "data": {
      "text/html": [
       "<div>\n",
       "<style scoped>\n",
       "    .dataframe tbody tr th:only-of-type {\n",
       "        vertical-align: middle;\n",
       "    }\n",
       "\n",
       "    .dataframe tbody tr th {\n",
       "        vertical-align: top;\n",
       "    }\n",
       "\n",
       "    .dataframe thead th {\n",
       "        text-align: right;\n",
       "    }\n",
       "</style>\n",
       "<table border=\"1\" class=\"dataframe\">\n",
       "  <thead>\n",
       "    <tr style=\"text-align: right;\">\n",
       "      <th></th>\n",
       "      <th>N</th>\n",
       "      <th>P</th>\n",
       "      <th>K</th>\n",
       "      <th>ph</th>\n",
       "      <th>crop</th>\n",
       "    </tr>\n",
       "  </thead>\n",
       "  <tbody>\n",
       "    <tr>\n",
       "      <th>0</th>\n",
       "      <td>358.73</td>\n",
       "      <td>12.85</td>\n",
       "      <td>176.25</td>\n",
       "      <td>5.62</td>\n",
       "      <td>0</td>\n",
       "    </tr>\n",
       "    <tr>\n",
       "      <th>1</th>\n",
       "      <td>395.28</td>\n",
       "      <td>16.40</td>\n",
       "      <td>188.32</td>\n",
       "      <td>6.11</td>\n",
       "      <td>0</td>\n",
       "    </tr>\n",
       "    <tr>\n",
       "      <th>2</th>\n",
       "      <td>361.19</td>\n",
       "      <td>11.33</td>\n",
       "      <td>151.52</td>\n",
       "      <td>5.68</td>\n",
       "      <td>0</td>\n",
       "    </tr>\n",
       "    <tr>\n",
       "      <th>3</th>\n",
       "      <td>425.39</td>\n",
       "      <td>19.27</td>\n",
       "      <td>215.04</td>\n",
       "      <td>6.25</td>\n",
       "      <td>0</td>\n",
       "    </tr>\n",
       "    <tr>\n",
       "      <th>4</th>\n",
       "      <td>371.52</td>\n",
       "      <td>17.73</td>\n",
       "      <td>147.99</td>\n",
       "      <td>5.96</td>\n",
       "      <td>0</td>\n",
       "    </tr>\n",
       "    <tr>\n",
       "      <th>...</th>\n",
       "      <td>...</td>\n",
       "      <td>...</td>\n",
       "      <td>...</td>\n",
       "      <td>...</td>\n",
       "      <td>...</td>\n",
       "    </tr>\n",
       "    <tr>\n",
       "      <th>114</th>\n",
       "      <td>396.77</td>\n",
       "      <td>17.72</td>\n",
       "      <td>172.25</td>\n",
       "      <td>5.93</td>\n",
       "      <td>4</td>\n",
       "    </tr>\n",
       "    <tr>\n",
       "      <th>115</th>\n",
       "      <td>359.72</td>\n",
       "      <td>27.55</td>\n",
       "      <td>148.23</td>\n",
       "      <td>6.05</td>\n",
       "      <td>4</td>\n",
       "    </tr>\n",
       "    <tr>\n",
       "      <th>116</th>\n",
       "      <td>320.63</td>\n",
       "      <td>21.50</td>\n",
       "      <td>233.87</td>\n",
       "      <td>6.14</td>\n",
       "      <td>4</td>\n",
       "    </tr>\n",
       "    <tr>\n",
       "      <th>117</th>\n",
       "      <td>265.15</td>\n",
       "      <td>22.34</td>\n",
       "      <td>214.15</td>\n",
       "      <td>5.88</td>\n",
       "      <td>4</td>\n",
       "    </tr>\n",
       "    <tr>\n",
       "      <th>118</th>\n",
       "      <td>312.23</td>\n",
       "      <td>28.82</td>\n",
       "      <td>194.26</td>\n",
       "      <td>6.18</td>\n",
       "      <td>4</td>\n",
       "    </tr>\n",
       "  </tbody>\n",
       "</table>\n",
       "<p>119 rows × 5 columns</p>\n",
       "</div>"
      ],
      "text/plain": [
       "          N      P       K    ph  crop\n",
       "0    358.73  12.85  176.25  5.62     0\n",
       "1    395.28  16.40  188.32  6.11     0\n",
       "2    361.19  11.33  151.52  5.68     0\n",
       "3    425.39  19.27  215.04  6.25     0\n",
       "4    371.52  17.73  147.99  5.96     0\n",
       "..      ...    ...     ...   ...   ...\n",
       "114  396.77  17.72  172.25  5.93     4\n",
       "115  359.72  27.55  148.23  6.05     4\n",
       "116  320.63  21.50  233.87  6.14     4\n",
       "117  265.15  22.34  214.15  5.88     4\n",
       "118  312.23  28.82  194.26  6.18     4\n",
       "\n",
       "[119 rows x 5 columns]"
      ]
     },
     "execution_count": 9,
     "metadata": {},
     "output_type": "execute_result"
    }
   ],
   "source": [
    "from sklearn import preprocessing \n",
    " \n",
    "label_encoder = preprocessing.LabelEncoder() \n",
    "data['crop']= label_encoder.fit_transform(data['crop'])\n",
    "data"
   ]
  },
  {
   "cell_type": "code",
   "execution_count": 10,
   "metadata": {},
   "outputs": [],
   "source": [
    "x = data.drop(['crop'],axis=1)\n",
    "y = data['crop']"
   ]
  },
  {
   "cell_type": "code",
   "execution_count": 11,
   "metadata": {},
   "outputs": [],
   "source": [
    "# splitting the data into train and test\n",
    "\n",
    "from sklearn.model_selection import train_test_split\n",
    "\n",
    "x_train,x_test,y_train,y_test = train_test_split(x,y,test_size=0.3,random_state=42)"
   ]
  },
  {
   "cell_type": "code",
   "execution_count": 12,
   "metadata": {},
   "outputs": [
    {
     "data": {
      "text/plain": [
       "((83, 4), (83,))"
      ]
     },
     "execution_count": 12,
     "metadata": {},
     "output_type": "execute_result"
    }
   ],
   "source": [
    "x_train.shape, y_train.shape"
   ]
  },
  {
   "cell_type": "code",
   "execution_count": 13,
   "metadata": {},
   "outputs": [
    {
     "data": {
      "text/plain": [
       "((36, 4), (36,))"
      ]
     },
     "execution_count": 13,
     "metadata": {},
     "output_type": "execute_result"
    }
   ],
   "source": [
    "x_test.shape,y_test.shape"
   ]
  },
  {
   "cell_type": "code",
   "execution_count": 14,
   "metadata": {},
   "outputs": [],
   "source": [
    "# scaling the data\n",
    "\n",
    "from sklearn.preprocessing import StandardScaler\n",
    "sc = StandardScaler()\n",
    "x_train_scaled = sc.fit_transform(x_train)\n",
    "x_test_scaled = sc.fit_transform(x_test)"
   ]
  },
  {
   "cell_type": "markdown",
   "metadata": {},
   "source": [
    "# Model Training and evaluation"
   ]
  },
  {
   "cell_type": "markdown",
   "metadata": {},
   "source": [
    "## Decision tree"
   ]
  },
  {
   "cell_type": "code",
   "execution_count": 15,
   "metadata": {},
   "outputs": [],
   "source": [
    "from sklearn import tree\n",
    "from sklearn.tree import DecisionTreeClassifier"
   ]
  },
  {
   "cell_type": "code",
   "execution_count": 16,
   "metadata": {},
   "outputs": [],
   "source": [
    "dtree = DecisionTreeClassifier(random_state=0)\n",
    "dtree = dtree.fit(x_train, y_train)"
   ]
  },
  {
   "cell_type": "code",
   "execution_count": 17,
   "metadata": {},
   "outputs": [],
   "source": [
    "d_pred = dtree.predict(x_test)"
   ]
  },
  {
   "cell_type": "code",
   "execution_count": 18,
   "metadata": {},
   "outputs": [
    {
     "name": "stdout",
     "output_type": "stream",
     "text": [
      "0.6388888888888888\n",
      "[0.66666667 0.55555556 0.8        0.57142857 0.72727273]\n",
      "[0.57142857 0.5        1.         0.6        0.8       ]\n",
      "[0.8        0.625      0.66666667 0.54545455 0.66666667]\n"
     ]
    }
   ],
   "source": [
    "from sklearn.metrics import accuracy_score,precision_score,recall_score,f1_score,confusion_matrix\n",
    "\n",
    "print(accuracy_score(y_test,d_pred))\n",
    "print(f1_score(y_test,d_pred,average=None))\n",
    "print(recall_score(y_test,d_pred,average=None))\n",
    "print(precision_score(y_test,d_pred,average=None))"
   ]
  },
  {
   "cell_type": "code",
   "execution_count": 19,
   "metadata": {},
   "outputs": [
    {
     "data": {
      "text/plain": [
       "array([[4, 1, 0, 0, 2],\n",
       "       [0, 5, 0, 5, 0],\n",
       "       [0, 0, 4, 0, 0],\n",
       "       [1, 1, 2, 6, 0],\n",
       "       [0, 1, 0, 0, 4]], dtype=int64)"
      ]
     },
     "execution_count": 19,
     "metadata": {},
     "output_type": "execute_result"
    }
   ],
   "source": [
    "confusion_matrix(y_test,d_pred)"
   ]
  },
  {
   "cell_type": "markdown",
   "metadata": {},
   "source": [
    "## Random Forest Classifier"
   ]
  },
  {
   "cell_type": "code",
   "execution_count": 20,
   "metadata": {},
   "outputs": [
    {
     "data": {
      "text/html": [
       "<style>#sk-container-id-1 {color: black;background-color: white;}#sk-container-id-1 pre{padding: 0;}#sk-container-id-1 div.sk-toggleable {background-color: white;}#sk-container-id-1 label.sk-toggleable__label {cursor: pointer;display: block;width: 100%;margin-bottom: 0;padding: 0.3em;box-sizing: border-box;text-align: center;}#sk-container-id-1 label.sk-toggleable__label-arrow:before {content: \"▸\";float: left;margin-right: 0.25em;color: #696969;}#sk-container-id-1 label.sk-toggleable__label-arrow:hover:before {color: black;}#sk-container-id-1 div.sk-estimator:hover label.sk-toggleable__label-arrow:before {color: black;}#sk-container-id-1 div.sk-toggleable__content {max-height: 0;max-width: 0;overflow: hidden;text-align: left;background-color: #f0f8ff;}#sk-container-id-1 div.sk-toggleable__content pre {margin: 0.2em;color: black;border-radius: 0.25em;background-color: #f0f8ff;}#sk-container-id-1 input.sk-toggleable__control:checked~div.sk-toggleable__content {max-height: 200px;max-width: 100%;overflow: auto;}#sk-container-id-1 input.sk-toggleable__control:checked~label.sk-toggleable__label-arrow:before {content: \"▾\";}#sk-container-id-1 div.sk-estimator input.sk-toggleable__control:checked~label.sk-toggleable__label {background-color: #d4ebff;}#sk-container-id-1 div.sk-label input.sk-toggleable__control:checked~label.sk-toggleable__label {background-color: #d4ebff;}#sk-container-id-1 input.sk-hidden--visually {border: 0;clip: rect(1px 1px 1px 1px);clip: rect(1px, 1px, 1px, 1px);height: 1px;margin: -1px;overflow: hidden;padding: 0;position: absolute;width: 1px;}#sk-container-id-1 div.sk-estimator {font-family: monospace;background-color: #f0f8ff;border: 1px dotted black;border-radius: 0.25em;box-sizing: border-box;margin-bottom: 0.5em;}#sk-container-id-1 div.sk-estimator:hover {background-color: #d4ebff;}#sk-container-id-1 div.sk-parallel-item::after {content: \"\";width: 100%;border-bottom: 1px solid gray;flex-grow: 1;}#sk-container-id-1 div.sk-label:hover label.sk-toggleable__label {background-color: #d4ebff;}#sk-container-id-1 div.sk-serial::before {content: \"\";position: absolute;border-left: 1px solid gray;box-sizing: border-box;top: 0;bottom: 0;left: 50%;z-index: 0;}#sk-container-id-1 div.sk-serial {display: flex;flex-direction: column;align-items: center;background-color: white;padding-right: 0.2em;padding-left: 0.2em;position: relative;}#sk-container-id-1 div.sk-item {position: relative;z-index: 1;}#sk-container-id-1 div.sk-parallel {display: flex;align-items: stretch;justify-content: center;background-color: white;position: relative;}#sk-container-id-1 div.sk-item::before, #sk-container-id-1 div.sk-parallel-item::before {content: \"\";position: absolute;border-left: 1px solid gray;box-sizing: border-box;top: 0;bottom: 0;left: 50%;z-index: -1;}#sk-container-id-1 div.sk-parallel-item {display: flex;flex-direction: column;z-index: 1;position: relative;background-color: white;}#sk-container-id-1 div.sk-parallel-item:first-child::after {align-self: flex-end;width: 50%;}#sk-container-id-1 div.sk-parallel-item:last-child::after {align-self: flex-start;width: 50%;}#sk-container-id-1 div.sk-parallel-item:only-child::after {width: 0;}#sk-container-id-1 div.sk-dashed-wrapped {border: 1px dashed gray;margin: 0 0.4em 0.5em 0.4em;box-sizing: border-box;padding-bottom: 0.4em;background-color: white;}#sk-container-id-1 div.sk-label label {font-family: monospace;font-weight: bold;display: inline-block;line-height: 1.2em;}#sk-container-id-1 div.sk-label-container {text-align: center;}#sk-container-id-1 div.sk-container {/* jupyter's `normalize.less` sets `[hidden] { display: none; }` but bootstrap.min.css set `[hidden] { display: none !important; }` so we also need the `!important` here to be able to override the default hidden behavior on the sphinx rendered scikit-learn.org. See: https://github.com/scikit-learn/scikit-learn/issues/21755 */display: inline-block !important;position: relative;}#sk-container-id-1 div.sk-text-repr-fallback {display: none;}</style><div id=\"sk-container-id-1\" class=\"sk-top-container\"><div class=\"sk-text-repr-fallback\"><pre>RandomForestClassifier(criterion=&#x27;entropy&#x27;, n_estimators=130, random_state=0)</pre><b>In a Jupyter environment, please rerun this cell to show the HTML representation or trust the notebook. <br />On GitHub, the HTML representation is unable to render, please try loading this page with nbviewer.org.</b></div><div class=\"sk-container\" hidden><div class=\"sk-item\"><div class=\"sk-estimator sk-toggleable\"><input class=\"sk-toggleable__control sk-hidden--visually\" id=\"sk-estimator-id-1\" type=\"checkbox\" checked><label for=\"sk-estimator-id-1\" class=\"sk-toggleable__label sk-toggleable__label-arrow\">RandomForestClassifier</label><div class=\"sk-toggleable__content\"><pre>RandomForestClassifier(criterion=&#x27;entropy&#x27;, n_estimators=130, random_state=0)</pre></div></div></div></div></div>"
      ],
      "text/plain": [
       "RandomForestClassifier(criterion='entropy', n_estimators=130, random_state=0)"
      ]
     },
     "execution_count": 20,
     "metadata": {},
     "output_type": "execute_result"
    }
   ],
   "source": [
    "from sklearn.ensemble import RandomForestClassifier\n",
    "rf = RandomForestClassifier(n_estimators=130,criterion='entropy',random_state=0)\n",
    "rf.fit(x_train,y_train)"
   ]
  },
  {
   "cell_type": "code",
   "execution_count": 21,
   "metadata": {},
   "outputs": [],
   "source": [
    "y_pred = rf.predict(x_test)"
   ]
  },
  {
   "cell_type": "code",
   "execution_count": 22,
   "metadata": {},
   "outputs": [
    {
     "name": "stdout",
     "output_type": "stream",
     "text": [
      "0.7777777777777778\n",
      "[0.66666667 0.73684211 0.85714286 0.8        0.90909091]\n",
      "[0.71428571 0.7        0.75       0.8        1.        ]\n",
      "[0.625      0.77777778 1.         0.8        0.83333333]\n"
     ]
    }
   ],
   "source": [
    "\n",
    "print(accuracy_score(y_test,y_pred))\n",
    "print(f1_score(y_test,y_pred,average=None))\n",
    "print(recall_score(y_test,y_pred,average=None))\n",
    "print(precision_score(y_test,y_pred,average=None))"
   ]
  },
  {
   "cell_type": "code",
   "execution_count": 23,
   "metadata": {},
   "outputs": [
    {
     "data": {
      "text/plain": [
       "array([[5, 1, 0, 0, 1],\n",
       "       [1, 7, 0, 2, 0],\n",
       "       [1, 0, 3, 0, 0],\n",
       "       [1, 1, 0, 8, 0],\n",
       "       [0, 0, 0, 0, 5]], dtype=int64)"
      ]
     },
     "execution_count": 23,
     "metadata": {},
     "output_type": "execute_result"
    }
   ],
   "source": [
    "confusion_matrix(y_test,y_pred)"
   ]
  },
  {
   "cell_type": "markdown",
   "metadata": {},
   "source": [
    "## Xgboost classifier"
   ]
  },
  {
   "cell_type": "code",
   "execution_count": 24,
   "metadata": {},
   "outputs": [
    {
     "data": {
      "text/html": [
       "<style>#sk-container-id-2 {color: black;background-color: white;}#sk-container-id-2 pre{padding: 0;}#sk-container-id-2 div.sk-toggleable {background-color: white;}#sk-container-id-2 label.sk-toggleable__label {cursor: pointer;display: block;width: 100%;margin-bottom: 0;padding: 0.3em;box-sizing: border-box;text-align: center;}#sk-container-id-2 label.sk-toggleable__label-arrow:before {content: \"▸\";float: left;margin-right: 0.25em;color: #696969;}#sk-container-id-2 label.sk-toggleable__label-arrow:hover:before {color: black;}#sk-container-id-2 div.sk-estimator:hover label.sk-toggleable__label-arrow:before {color: black;}#sk-container-id-2 div.sk-toggleable__content {max-height: 0;max-width: 0;overflow: hidden;text-align: left;background-color: #f0f8ff;}#sk-container-id-2 div.sk-toggleable__content pre {margin: 0.2em;color: black;border-radius: 0.25em;background-color: #f0f8ff;}#sk-container-id-2 input.sk-toggleable__control:checked~div.sk-toggleable__content {max-height: 200px;max-width: 100%;overflow: auto;}#sk-container-id-2 input.sk-toggleable__control:checked~label.sk-toggleable__label-arrow:before {content: \"▾\";}#sk-container-id-2 div.sk-estimator input.sk-toggleable__control:checked~label.sk-toggleable__label {background-color: #d4ebff;}#sk-container-id-2 div.sk-label input.sk-toggleable__control:checked~label.sk-toggleable__label {background-color: #d4ebff;}#sk-container-id-2 input.sk-hidden--visually {border: 0;clip: rect(1px 1px 1px 1px);clip: rect(1px, 1px, 1px, 1px);height: 1px;margin: -1px;overflow: hidden;padding: 0;position: absolute;width: 1px;}#sk-container-id-2 div.sk-estimator {font-family: monospace;background-color: #f0f8ff;border: 1px dotted black;border-radius: 0.25em;box-sizing: border-box;margin-bottom: 0.5em;}#sk-container-id-2 div.sk-estimator:hover {background-color: #d4ebff;}#sk-container-id-2 div.sk-parallel-item::after {content: \"\";width: 100%;border-bottom: 1px solid gray;flex-grow: 1;}#sk-container-id-2 div.sk-label:hover label.sk-toggleable__label {background-color: #d4ebff;}#sk-container-id-2 div.sk-serial::before {content: \"\";position: absolute;border-left: 1px solid gray;box-sizing: border-box;top: 0;bottom: 0;left: 50%;z-index: 0;}#sk-container-id-2 div.sk-serial {display: flex;flex-direction: column;align-items: center;background-color: white;padding-right: 0.2em;padding-left: 0.2em;position: relative;}#sk-container-id-2 div.sk-item {position: relative;z-index: 1;}#sk-container-id-2 div.sk-parallel {display: flex;align-items: stretch;justify-content: center;background-color: white;position: relative;}#sk-container-id-2 div.sk-item::before, #sk-container-id-2 div.sk-parallel-item::before {content: \"\";position: absolute;border-left: 1px solid gray;box-sizing: border-box;top: 0;bottom: 0;left: 50%;z-index: -1;}#sk-container-id-2 div.sk-parallel-item {display: flex;flex-direction: column;z-index: 1;position: relative;background-color: white;}#sk-container-id-2 div.sk-parallel-item:first-child::after {align-self: flex-end;width: 50%;}#sk-container-id-2 div.sk-parallel-item:last-child::after {align-self: flex-start;width: 50%;}#sk-container-id-2 div.sk-parallel-item:only-child::after {width: 0;}#sk-container-id-2 div.sk-dashed-wrapped {border: 1px dashed gray;margin: 0 0.4em 0.5em 0.4em;box-sizing: border-box;padding-bottom: 0.4em;background-color: white;}#sk-container-id-2 div.sk-label label {font-family: monospace;font-weight: bold;display: inline-block;line-height: 1.2em;}#sk-container-id-2 div.sk-label-container {text-align: center;}#sk-container-id-2 div.sk-container {/* jupyter's `normalize.less` sets `[hidden] { display: none; }` but bootstrap.min.css set `[hidden] { display: none !important; }` so we also need the `!important` here to be able to override the default hidden behavior on the sphinx rendered scikit-learn.org. See: https://github.com/scikit-learn/scikit-learn/issues/21755 */display: inline-block !important;position: relative;}#sk-container-id-2 div.sk-text-repr-fallback {display: none;}</style><div id=\"sk-container-id-2\" class=\"sk-top-container\"><div class=\"sk-text-repr-fallback\"><pre>XGBClassifier(base_score=None, booster=None, callbacks=None,\n",
       "              colsample_bylevel=None, colsample_bynode=None,\n",
       "              colsample_bytree=None, early_stopping_rounds=None,\n",
       "              enable_categorical=False, eval_metric=None, feature_types=None,\n",
       "              gamma=None, gpu_id=None, grow_policy=None, importance_type=None,\n",
       "              interaction_constraints=None, learning_rate=0.05, max_bin=None,\n",
       "              max_cat_threshold=None, max_cat_to_onehot=None,\n",
       "              max_delta_step=None, max_depth=None, max_leaves=None,\n",
       "              min_child_weight=None, missing=nan, monotone_constraints=None,\n",
       "              n_estimators=300, n_jobs=None, num_parallel_tree=None,\n",
       "              objective=&#x27;multi:softprob&#x27;, predictor=None, ...)</pre><b>In a Jupyter environment, please rerun this cell to show the HTML representation or trust the notebook. <br />On GitHub, the HTML representation is unable to render, please try loading this page with nbviewer.org.</b></div><div class=\"sk-container\" hidden><div class=\"sk-item\"><div class=\"sk-estimator sk-toggleable\"><input class=\"sk-toggleable__control sk-hidden--visually\" id=\"sk-estimator-id-2\" type=\"checkbox\" checked><label for=\"sk-estimator-id-2\" class=\"sk-toggleable__label sk-toggleable__label-arrow\">XGBClassifier</label><div class=\"sk-toggleable__content\"><pre>XGBClassifier(base_score=None, booster=None, callbacks=None,\n",
       "              colsample_bylevel=None, colsample_bynode=None,\n",
       "              colsample_bytree=None, early_stopping_rounds=None,\n",
       "              enable_categorical=False, eval_metric=None, feature_types=None,\n",
       "              gamma=None, gpu_id=None, grow_policy=None, importance_type=None,\n",
       "              interaction_constraints=None, learning_rate=0.05, max_bin=None,\n",
       "              max_cat_threshold=None, max_cat_to_onehot=None,\n",
       "              max_delta_step=None, max_depth=None, max_leaves=None,\n",
       "              min_child_weight=None, missing=nan, monotone_constraints=None,\n",
       "              n_estimators=300, n_jobs=None, num_parallel_tree=None,\n",
       "              objective=&#x27;multi:softprob&#x27;, predictor=None, ...)</pre></div></div></div></div></div>"
      ],
      "text/plain": [
       "XGBClassifier(base_score=None, booster=None, callbacks=None,\n",
       "              colsample_bylevel=None, colsample_bynode=None,\n",
       "              colsample_bytree=None, early_stopping_rounds=None,\n",
       "              enable_categorical=False, eval_metric=None, feature_types=None,\n",
       "              gamma=None, gpu_id=None, grow_policy=None, importance_type=None,\n",
       "              interaction_constraints=None, learning_rate=0.05, max_bin=None,\n",
       "              max_cat_threshold=None, max_cat_to_onehot=None,\n",
       "              max_delta_step=None, max_depth=None, max_leaves=None,\n",
       "              min_child_weight=None, missing=nan, monotone_constraints=None,\n",
       "              n_estimators=300, n_jobs=None, num_parallel_tree=None,\n",
       "              objective='multi:softprob', predictor=None, ...)"
      ]
     },
     "execution_count": 24,
     "metadata": {},
     "output_type": "execute_result"
    }
   ],
   "source": [
    "# xgboost\n",
    "\n",
    "import xgboost as xgb\n",
    "xg= xgb.XGBClassifier(n_estimators=300,learning_rate=0.05,random_state=0)\n",
    "xg.fit(x_train,y_train)"
   ]
  },
  {
   "cell_type": "code",
   "execution_count": 25,
   "metadata": {},
   "outputs": [],
   "source": [
    "xg_pred = xg.predict(x_test)"
   ]
  },
  {
   "cell_type": "code",
   "execution_count": 26,
   "metadata": {},
   "outputs": [
    {
     "name": "stdout",
     "output_type": "stream",
     "text": [
      "0.6944444444444444\n",
      "[0.71428571 0.7        0.5        0.63157895 0.90909091]\n",
      "[0.71428571 0.7        0.5        0.6        1.        ]\n",
      "[0.71428571 0.7        0.5        0.66666667 0.83333333]\n"
     ]
    }
   ],
   "source": [
    "from sklearn.metrics import accuracy_score,precision_score,recall_score,f1_score\n",
    "\n",
    "print(accuracy_score(y_test,xg_pred))\n",
    "print(f1_score(y_test,xg_pred,average=None))\n",
    "print(recall_score(y_test,xg_pred,average=None))\n",
    "print(precision_score(y_test,xg_pred,average=None))"
   ]
  },
  {
   "cell_type": "code",
   "execution_count": 27,
   "metadata": {},
   "outputs": [
    {
     "data": {
      "text/plain": [
       "array([[5, 1, 0, 0, 1],\n",
       "       [1, 7, 0, 2, 0],\n",
       "       [1, 0, 2, 1, 0],\n",
       "       [0, 2, 2, 6, 0],\n",
       "       [0, 0, 0, 0, 5]], dtype=int64)"
      ]
     },
     "execution_count": 27,
     "metadata": {},
     "output_type": "execute_result"
    }
   ],
   "source": [
    "confusion_matrix(y_test,xg_pred)"
   ]
  },
  {
   "cell_type": "markdown",
   "metadata": {},
   "source": [
    "## Catboost classifier"
   ]
  },
  {
   "cell_type": "code",
   "execution_count": 28,
   "metadata": {},
   "outputs": [
    {
     "name": "stdout",
     "output_type": "stream",
     "text": [
      "0:\tlearn: 1.5487363\ttotal: 150ms\tremaining: 22.3s\n",
      "1:\tlearn: 1.4769515\ttotal: 155ms\tremaining: 11.5s\n",
      "2:\tlearn: 1.4148233\ttotal: 160ms\tremaining: 7.83s\n",
      "3:\tlearn: 1.3415652\ttotal: 164ms\tremaining: 5.98s\n",
      "4:\tlearn: 1.2799174\ttotal: 167ms\tremaining: 4.84s\n",
      "5:\tlearn: 1.2303846\ttotal: 170ms\tremaining: 4.07s\n",
      "6:\tlearn: 1.1794090\ttotal: 172ms\tremaining: 3.51s\n",
      "7:\tlearn: 1.1316149\ttotal: 173ms\tremaining: 3.07s\n",
      "8:\tlearn: 1.0925486\ttotal: 174ms\tremaining: 2.72s\n",
      "9:\tlearn: 1.0487800\ttotal: 175ms\tremaining: 2.45s\n",
      "10:\tlearn: 1.0081421\ttotal: 176ms\tremaining: 2.22s\n",
      "11:\tlearn: 0.9715217\ttotal: 177ms\tremaining: 2.03s\n",
      "12:\tlearn: 0.9451214\ttotal: 178ms\tremaining: 1.87s\n",
      "13:\tlearn: 0.9136801\ttotal: 179ms\tremaining: 1.74s\n",
      "14:\tlearn: 0.8754285\ttotal: 180ms\tremaining: 1.62s\n",
      "15:\tlearn: 0.8412078\ttotal: 181ms\tremaining: 1.51s\n",
      "16:\tlearn: 0.8155829\ttotal: 182ms\tremaining: 1.42s\n",
      "17:\tlearn: 0.7872231\ttotal: 183ms\tremaining: 1.34s\n",
      "18:\tlearn: 0.7673241\ttotal: 184ms\tremaining: 1.26s\n",
      "19:\tlearn: 0.7443909\ttotal: 185ms\tremaining: 1.2s\n",
      "20:\tlearn: 0.7219422\ttotal: 185ms\tremaining: 1.14s\n",
      "21:\tlearn: 0.6976280\ttotal: 186ms\tremaining: 1.08s\n",
      "22:\tlearn: 0.6746010\ttotal: 188ms\tremaining: 1.03s\n",
      "23:\tlearn: 0.6586503\ttotal: 188ms\tremaining: 989ms\n",
      "24:\tlearn: 0.6411536\ttotal: 189ms\tremaining: 947ms\n",
      "25:\tlearn: 0.6244361\ttotal: 190ms\tremaining: 908ms\n",
      "26:\tlearn: 0.6092354\ttotal: 191ms\tremaining: 872ms\n",
      "27:\tlearn: 0.5946576\ttotal: 192ms\tremaining: 838ms\n",
      "28:\tlearn: 0.5797403\ttotal: 193ms\tremaining: 806ms\n",
      "29:\tlearn: 0.5667185\ttotal: 194ms\tremaining: 777ms\n",
      "30:\tlearn: 0.5529608\ttotal: 195ms\tremaining: 749ms\n",
      "31:\tlearn: 0.5391671\ttotal: 196ms\tremaining: 724ms\n",
      "32:\tlearn: 0.5276693\ttotal: 197ms\tremaining: 699ms\n",
      "33:\tlearn: 0.5137117\ttotal: 198ms\tremaining: 676ms\n",
      "34:\tlearn: 0.4996038\ttotal: 199ms\tremaining: 654ms\n",
      "35:\tlearn: 0.4893140\ttotal: 200ms\tremaining: 633ms\n",
      "36:\tlearn: 0.4807518\ttotal: 201ms\tremaining: 614ms\n",
      "37:\tlearn: 0.4715273\ttotal: 202ms\tremaining: 595ms\n",
      "38:\tlearn: 0.4577787\ttotal: 203ms\tremaining: 578ms\n",
      "39:\tlearn: 0.4469440\ttotal: 204ms\tremaining: 561ms\n",
      "40:\tlearn: 0.4359980\ttotal: 205ms\tremaining: 545ms\n",
      "41:\tlearn: 0.4269957\ttotal: 206ms\tremaining: 530ms\n",
      "42:\tlearn: 0.4175047\ttotal: 207ms\tremaining: 515ms\n",
      "43:\tlearn: 0.4062644\ttotal: 208ms\tremaining: 501ms\n",
      "44:\tlearn: 0.3973097\ttotal: 209ms\tremaining: 487ms\n",
      "45:\tlearn: 0.3889764\ttotal: 210ms\tremaining: 474ms\n",
      "46:\tlearn: 0.3826249\ttotal: 211ms\tremaining: 462ms\n",
      "47:\tlearn: 0.3741510\ttotal: 212ms\tremaining: 450ms\n",
      "48:\tlearn: 0.3673500\ttotal: 213ms\tremaining: 439ms\n",
      "49:\tlearn: 0.3596757\ttotal: 214ms\tremaining: 428ms\n",
      "50:\tlearn: 0.3528807\ttotal: 215ms\tremaining: 417ms\n",
      "51:\tlearn: 0.3458989\ttotal: 216ms\tremaining: 407ms\n",
      "52:\tlearn: 0.3392214\ttotal: 217ms\tremaining: 397ms\n",
      "53:\tlearn: 0.3324863\ttotal: 218ms\tremaining: 387ms\n",
      "54:\tlearn: 0.3251235\ttotal: 219ms\tremaining: 378ms\n",
      "55:\tlearn: 0.3186967\ttotal: 220ms\tremaining: 369ms\n",
      "56:\tlearn: 0.3137383\ttotal: 220ms\tremaining: 360ms\n",
      "57:\tlearn: 0.3084798\ttotal: 221ms\tremaining: 351ms\n",
      "58:\tlearn: 0.3038217\ttotal: 222ms\tremaining: 343ms\n",
      "59:\tlearn: 0.2988899\ttotal: 223ms\tremaining: 335ms\n",
      "60:\tlearn: 0.2942830\ttotal: 224ms\tremaining: 327ms\n",
      "61:\tlearn: 0.2885181\ttotal: 225ms\tremaining: 320ms\n",
      "62:\tlearn: 0.2834654\ttotal: 226ms\tremaining: 313ms\n",
      "63:\tlearn: 0.2778096\ttotal: 227ms\tremaining: 305ms\n",
      "64:\tlearn: 0.2728068\ttotal: 228ms\tremaining: 299ms\n",
      "65:\tlearn: 0.2683618\ttotal: 229ms\tremaining: 292ms\n",
      "66:\tlearn: 0.2623379\ttotal: 230ms\tremaining: 285ms\n",
      "67:\tlearn: 0.2585409\ttotal: 231ms\tremaining: 279ms\n",
      "68:\tlearn: 0.2542287\ttotal: 232ms\tremaining: 273ms\n",
      "69:\tlearn: 0.2505874\ttotal: 233ms\tremaining: 267ms\n",
      "70:\tlearn: 0.2460103\ttotal: 234ms\tremaining: 261ms\n",
      "71:\tlearn: 0.2419376\ttotal: 235ms\tremaining: 255ms\n",
      "72:\tlearn: 0.2388421\ttotal: 236ms\tremaining: 249ms\n",
      "73:\tlearn: 0.2349436\ttotal: 237ms\tremaining: 244ms\n",
      "74:\tlearn: 0.2308044\ttotal: 238ms\tremaining: 238ms\n",
      "75:\tlearn: 0.2265994\ttotal: 239ms\tremaining: 233ms\n",
      "76:\tlearn: 0.2231738\ttotal: 240ms\tremaining: 228ms\n",
      "77:\tlearn: 0.2195090\ttotal: 241ms\tremaining: 223ms\n",
      "78:\tlearn: 0.2152830\ttotal: 242ms\tremaining: 218ms\n",
      "79:\tlearn: 0.2122261\ttotal: 243ms\tremaining: 213ms\n",
      "80:\tlearn: 0.2094691\ttotal: 244ms\tremaining: 208ms\n",
      "81:\tlearn: 0.2062083\ttotal: 245ms\tremaining: 203ms\n",
      "82:\tlearn: 0.2031732\ttotal: 246ms\tremaining: 199ms\n",
      "83:\tlearn: 0.2000930\ttotal: 247ms\tremaining: 194ms\n",
      "84:\tlearn: 0.1968383\ttotal: 248ms\tremaining: 190ms\n",
      "85:\tlearn: 0.1935593\ttotal: 249ms\tremaining: 185ms\n",
      "86:\tlearn: 0.1912825\ttotal: 250ms\tremaining: 181ms\n",
      "87:\tlearn: 0.1888964\ttotal: 251ms\tremaining: 177ms\n",
      "88:\tlearn: 0.1860065\ttotal: 252ms\tremaining: 173ms\n",
      "89:\tlearn: 0.1833359\ttotal: 253ms\tremaining: 169ms\n",
      "90:\tlearn: 0.1802711\ttotal: 254ms\tremaining: 165ms\n",
      "91:\tlearn: 0.1781503\ttotal: 255ms\tremaining: 161ms\n",
      "92:\tlearn: 0.1758688\ttotal: 256ms\tremaining: 157ms\n",
      "93:\tlearn: 0.1736411\ttotal: 257ms\tremaining: 153ms\n",
      "94:\tlearn: 0.1714549\ttotal: 258ms\tremaining: 149ms\n",
      "95:\tlearn: 0.1693986\ttotal: 258ms\tremaining: 145ms\n",
      "96:\tlearn: 0.1672146\ttotal: 259ms\tremaining: 142ms\n",
      "97:\tlearn: 0.1652195\ttotal: 260ms\tremaining: 138ms\n",
      "98:\tlearn: 0.1633205\ttotal: 261ms\tremaining: 135ms\n",
      "99:\tlearn: 0.1612655\ttotal: 262ms\tremaining: 131ms\n",
      "100:\tlearn: 0.1592779\ttotal: 263ms\tremaining: 128ms\n",
      "101:\tlearn: 0.1571199\ttotal: 264ms\tremaining: 124ms\n",
      "102:\tlearn: 0.1550490\ttotal: 265ms\tremaining: 121ms\n",
      "103:\tlearn: 0.1527946\ttotal: 266ms\tremaining: 118ms\n",
      "104:\tlearn: 0.1508595\ttotal: 267ms\tremaining: 114ms\n",
      "105:\tlearn: 0.1490023\ttotal: 268ms\tremaining: 111ms\n",
      "106:\tlearn: 0.1469470\ttotal: 269ms\tremaining: 108ms\n",
      "107:\tlearn: 0.1451804\ttotal: 270ms\tremaining: 105ms\n",
      "108:\tlearn: 0.1430906\ttotal: 271ms\tremaining: 102ms\n",
      "109:\tlearn: 0.1410809\ttotal: 272ms\tremaining: 98.8ms\n",
      "110:\tlearn: 0.1395804\ttotal: 273ms\tremaining: 95.8ms\n",
      "111:\tlearn: 0.1378567\ttotal: 274ms\tremaining: 92.8ms\n",
      "112:\tlearn: 0.1365455\ttotal: 275ms\tremaining: 89.9ms\n",
      "113:\tlearn: 0.1355684\ttotal: 276ms\tremaining: 87ms\n",
      "114:\tlearn: 0.1339167\ttotal: 277ms\tremaining: 84.2ms\n",
      "115:\tlearn: 0.1325462\ttotal: 278ms\tremaining: 81.4ms\n",
      "116:\tlearn: 0.1306966\ttotal: 279ms\tremaining: 78.6ms\n",
      "117:\tlearn: 0.1294793\ttotal: 280ms\tremaining: 75.8ms\n",
      "118:\tlearn: 0.1282807\ttotal: 281ms\tremaining: 73.1ms\n",
      "119:\tlearn: 0.1270164\ttotal: 282ms\tremaining: 70.4ms\n",
      "120:\tlearn: 0.1255969\ttotal: 283ms\tremaining: 67.7ms\n",
      "121:\tlearn: 0.1245423\ttotal: 284ms\tremaining: 65.1ms\n",
      "122:\tlearn: 0.1227839\ttotal: 285ms\tremaining: 62.5ms\n",
      "123:\tlearn: 0.1212773\ttotal: 286ms\tremaining: 59.9ms\n",
      "124:\tlearn: 0.1203639\ttotal: 287ms\tremaining: 57.3ms\n",
      "125:\tlearn: 0.1187372\ttotal: 288ms\tremaining: 54.8ms\n",
      "126:\tlearn: 0.1175865\ttotal: 289ms\tremaining: 52.3ms\n",
      "127:\tlearn: 0.1164748\ttotal: 290ms\tremaining: 49.8ms\n",
      "128:\tlearn: 0.1153340\ttotal: 291ms\tremaining: 47.3ms\n",
      "129:\tlearn: 0.1141583\ttotal: 292ms\tremaining: 44.9ms\n",
      "130:\tlearn: 0.1131560\ttotal: 293ms\tremaining: 42.5ms\n",
      "131:\tlearn: 0.1118952\ttotal: 294ms\tremaining: 40.1ms\n",
      "132:\tlearn: 0.1110284\ttotal: 295ms\tremaining: 37.7ms\n",
      "133:\tlearn: 0.1101992\ttotal: 296ms\tremaining: 35.3ms\n",
      "134:\tlearn: 0.1088663\ttotal: 297ms\tremaining: 32.9ms\n",
      "135:\tlearn: 0.1079615\ttotal: 297ms\tremaining: 30.6ms\n",
      "136:\tlearn: 0.1069156\ttotal: 299ms\tremaining: 28.3ms\n",
      "137:\tlearn: 0.1058219\ttotal: 300ms\tremaining: 26ms\n",
      "138:\tlearn: 0.1051062\ttotal: 300ms\tremaining: 23.8ms\n",
      "139:\tlearn: 0.1041938\ttotal: 301ms\tremaining: 21.5ms\n",
      "140:\tlearn: 0.1032705\ttotal: 302ms\tremaining: 19.3ms\n",
      "141:\tlearn: 0.1023783\ttotal: 303ms\tremaining: 17.1ms\n",
      "142:\tlearn: 0.1017089\ttotal: 304ms\tremaining: 14.9ms\n",
      "143:\tlearn: 0.1006543\ttotal: 305ms\tremaining: 12.7ms\n",
      "144:\tlearn: 0.0998828\ttotal: 306ms\tremaining: 10.6ms\n",
      "145:\tlearn: 0.0988708\ttotal: 307ms\tremaining: 8.41ms\n",
      "146:\tlearn: 0.0979125\ttotal: 308ms\tremaining: 6.29ms\n",
      "147:\tlearn: 0.0969968\ttotal: 309ms\tremaining: 4.18ms\n",
      "148:\tlearn: 0.0963590\ttotal: 310ms\tremaining: 2.08ms\n",
      "149:\tlearn: 0.0954312\ttotal: 311ms\tremaining: 0us\n"
     ]
    },
    {
     "data": {
      "text/plain": [
       "<catboost.core.CatBoostClassifier at 0x1423c0c7640>"
      ]
     },
     "execution_count": 28,
     "metadata": {},
     "output_type": "execute_result"
    }
   ],
   "source": [
    "# catboost\n",
    "\n",
    "from catboost import CatBoostClassifier\n",
    "\n",
    "clf = CatBoostClassifier(\n",
    "    iterations=150, \n",
    "    learning_rate=0.1, \n",
    ")\n",
    "\n",
    "clf.fit(x_train,y_train)"
   ]
  },
  {
   "cell_type": "code",
   "execution_count": 29,
   "metadata": {},
   "outputs": [],
   "source": [
    "cat_pred = clf.predict(x_test)"
   ]
  },
  {
   "cell_type": "code",
   "execution_count": 30,
   "metadata": {},
   "outputs": [
    {
     "name": "stdout",
     "output_type": "stream",
     "text": [
      "0.8333333333333334\n",
      "[0.76923077 0.73684211 1.         0.85714286 0.90909091]\n",
      "[0.71428571 0.7        1.         0.9        1.        ]\n",
      "[0.83333333 0.77777778 1.         0.81818182 0.83333333]\n"
     ]
    }
   ],
   "source": [
    "print(accuracy_score(y_test,cat_pred))\n",
    "print(f1_score(y_test,cat_pred,average=None))\n",
    "print(recall_score(y_test,cat_pred,average=None))\n",
    "print(precision_score(y_test,cat_pred,average=None))"
   ]
  },
  {
   "cell_type": "code",
   "execution_count": 31,
   "metadata": {},
   "outputs": [
    {
     "data": {
      "text/plain": [
       "array([[5, 1, 0, 0, 1],\n",
       "       [1, 7, 0, 2, 0],\n",
       "       [0, 0, 4, 0, 0],\n",
       "       [0, 1, 0, 9, 0],\n",
       "       [0, 0, 0, 0, 5]], dtype=int64)"
      ]
     },
     "execution_count": 31,
     "metadata": {},
     "output_type": "execute_result"
    }
   ],
   "source": [
    "confusion_matrix(y_test,cat_pred)"
   ]
  },
  {
   "cell_type": "markdown",
   "metadata": {},
   "source": [
    "## MLP Classifier"
   ]
  },
  {
   "cell_type": "code",
   "execution_count": 32,
   "metadata": {},
   "outputs": [],
   "source": [
    "from sklearn.neural_network import MLPClassifier\n",
    "clf2 = MLPClassifier(random_state=1, max_iter=120).fit(x_train_scaled, y_train)"
   ]
  },
  {
   "cell_type": "code",
   "execution_count": 33,
   "metadata": {},
   "outputs": [],
   "source": [
    "mlp_pred = clf2.predict(x_test_scaled)"
   ]
  },
  {
   "cell_type": "code",
   "execution_count": 34,
   "metadata": {},
   "outputs": [
    {
     "name": "stdout",
     "output_type": "stream",
     "text": [
      "0.8055555555555556\n",
      "[0.71428571 0.77777778 0.75       0.9        0.83333333]\n",
      "[0.71428571 0.7        0.75       0.9        1.        ]\n",
      "[0.71428571 0.875      0.75       0.9        0.71428571]\n"
     ]
    }
   ],
   "source": [
    "print(accuracy_score(y_test,mlp_pred))\n",
    "print(f1_score(y_test,mlp_pred,average=None))\n",
    "print(recall_score(y_test,mlp_pred,average=None))\n",
    "print(precision_score(y_test,mlp_pred,average=None))"
   ]
  },
  {
   "cell_type": "code",
   "execution_count": 35,
   "metadata": {},
   "outputs": [
    {
     "data": {
      "text/plain": [
       "array([[5, 0, 0, 0, 2],\n",
       "       [1, 7, 1, 1, 0],\n",
       "       [1, 0, 3, 0, 0],\n",
       "       [0, 1, 0, 9, 0],\n",
       "       [0, 0, 0, 0, 5]], dtype=int64)"
      ]
     },
     "execution_count": 35,
     "metadata": {},
     "output_type": "execute_result"
    }
   ],
   "source": [
    "confusion_matrix(y_test,mlp_pred)"
   ]
  },
  {
   "cell_type": "markdown",
   "metadata": {},
   "source": [
    "## adaboost classifier"
   ]
  },
  {
   "cell_type": "code",
   "execution_count": 36,
   "metadata": {},
   "outputs": [],
   "source": [
    "from sklearn.ensemble import AdaBoostClassifier"
   ]
  },
  {
   "cell_type": "code",
   "execution_count": 37,
   "metadata": {},
   "outputs": [
    {
     "data": {
      "text/html": [
       "<style>#sk-container-id-3 {color: black;background-color: white;}#sk-container-id-3 pre{padding: 0;}#sk-container-id-3 div.sk-toggleable {background-color: white;}#sk-container-id-3 label.sk-toggleable__label {cursor: pointer;display: block;width: 100%;margin-bottom: 0;padding: 0.3em;box-sizing: border-box;text-align: center;}#sk-container-id-3 label.sk-toggleable__label-arrow:before {content: \"▸\";float: left;margin-right: 0.25em;color: #696969;}#sk-container-id-3 label.sk-toggleable__label-arrow:hover:before {color: black;}#sk-container-id-3 div.sk-estimator:hover label.sk-toggleable__label-arrow:before {color: black;}#sk-container-id-3 div.sk-toggleable__content {max-height: 0;max-width: 0;overflow: hidden;text-align: left;background-color: #f0f8ff;}#sk-container-id-3 div.sk-toggleable__content pre {margin: 0.2em;color: black;border-radius: 0.25em;background-color: #f0f8ff;}#sk-container-id-3 input.sk-toggleable__control:checked~div.sk-toggleable__content {max-height: 200px;max-width: 100%;overflow: auto;}#sk-container-id-3 input.sk-toggleable__control:checked~label.sk-toggleable__label-arrow:before {content: \"▾\";}#sk-container-id-3 div.sk-estimator input.sk-toggleable__control:checked~label.sk-toggleable__label {background-color: #d4ebff;}#sk-container-id-3 div.sk-label input.sk-toggleable__control:checked~label.sk-toggleable__label {background-color: #d4ebff;}#sk-container-id-3 input.sk-hidden--visually {border: 0;clip: rect(1px 1px 1px 1px);clip: rect(1px, 1px, 1px, 1px);height: 1px;margin: -1px;overflow: hidden;padding: 0;position: absolute;width: 1px;}#sk-container-id-3 div.sk-estimator {font-family: monospace;background-color: #f0f8ff;border: 1px dotted black;border-radius: 0.25em;box-sizing: border-box;margin-bottom: 0.5em;}#sk-container-id-3 div.sk-estimator:hover {background-color: #d4ebff;}#sk-container-id-3 div.sk-parallel-item::after {content: \"\";width: 100%;border-bottom: 1px solid gray;flex-grow: 1;}#sk-container-id-3 div.sk-label:hover label.sk-toggleable__label {background-color: #d4ebff;}#sk-container-id-3 div.sk-serial::before {content: \"\";position: absolute;border-left: 1px solid gray;box-sizing: border-box;top: 0;bottom: 0;left: 50%;z-index: 0;}#sk-container-id-3 div.sk-serial {display: flex;flex-direction: column;align-items: center;background-color: white;padding-right: 0.2em;padding-left: 0.2em;position: relative;}#sk-container-id-3 div.sk-item {position: relative;z-index: 1;}#sk-container-id-3 div.sk-parallel {display: flex;align-items: stretch;justify-content: center;background-color: white;position: relative;}#sk-container-id-3 div.sk-item::before, #sk-container-id-3 div.sk-parallel-item::before {content: \"\";position: absolute;border-left: 1px solid gray;box-sizing: border-box;top: 0;bottom: 0;left: 50%;z-index: -1;}#sk-container-id-3 div.sk-parallel-item {display: flex;flex-direction: column;z-index: 1;position: relative;background-color: white;}#sk-container-id-3 div.sk-parallel-item:first-child::after {align-self: flex-end;width: 50%;}#sk-container-id-3 div.sk-parallel-item:last-child::after {align-self: flex-start;width: 50%;}#sk-container-id-3 div.sk-parallel-item:only-child::after {width: 0;}#sk-container-id-3 div.sk-dashed-wrapped {border: 1px dashed gray;margin: 0 0.4em 0.5em 0.4em;box-sizing: border-box;padding-bottom: 0.4em;background-color: white;}#sk-container-id-3 div.sk-label label {font-family: monospace;font-weight: bold;display: inline-block;line-height: 1.2em;}#sk-container-id-3 div.sk-label-container {text-align: center;}#sk-container-id-3 div.sk-container {/* jupyter's `normalize.less` sets `[hidden] { display: none; }` but bootstrap.min.css set `[hidden] { display: none !important; }` so we also need the `!important` here to be able to override the default hidden behavior on the sphinx rendered scikit-learn.org. See: https://github.com/scikit-learn/scikit-learn/issues/21755 */display: inline-block !important;position: relative;}#sk-container-id-3 div.sk-text-repr-fallback {display: none;}</style><div id=\"sk-container-id-3\" class=\"sk-top-container\"><div class=\"sk-text-repr-fallback\"><pre>AdaBoostClassifier(n_estimators=500, random_state=42)</pre><b>In a Jupyter environment, please rerun this cell to show the HTML representation or trust the notebook. <br />On GitHub, the HTML representation is unable to render, please try loading this page with nbviewer.org.</b></div><div class=\"sk-container\" hidden><div class=\"sk-item\"><div class=\"sk-estimator sk-toggleable\"><input class=\"sk-toggleable__control sk-hidden--visually\" id=\"sk-estimator-id-3\" type=\"checkbox\" checked><label for=\"sk-estimator-id-3\" class=\"sk-toggleable__label sk-toggleable__label-arrow\">AdaBoostClassifier</label><div class=\"sk-toggleable__content\"><pre>AdaBoostClassifier(n_estimators=500, random_state=42)</pre></div></div></div></div></div>"
      ],
      "text/plain": [
       "AdaBoostClassifier(n_estimators=500, random_state=42)"
      ]
     },
     "execution_count": 37,
     "metadata": {},
     "output_type": "execute_result"
    }
   ],
   "source": [
    "ada_clf = AdaBoostClassifier(n_estimators=500, random_state=42)\n",
    "ada_clf.fit(x_train, y_train)"
   ]
  },
  {
   "cell_type": "code",
   "execution_count": 38,
   "metadata": {},
   "outputs": [],
   "source": [
    "ada_pred = ada_clf.predict(x_test)"
   ]
  },
  {
   "cell_type": "code",
   "execution_count": 39,
   "metadata": {},
   "outputs": [
    {
     "name": "stdout",
     "output_type": "stream",
     "text": [
      "0.6111111111111112\n",
      "[0.8        0.52173913 0.66666667 0.7        0.        ]\n",
      "[0.85714286 0.6        0.75       0.7        0.        ]\n",
      "[0.75       0.46153846 0.6        0.7        0.        ]\n"
     ]
    }
   ],
   "source": [
    "print(accuracy_score(y_test,ada_pred))\n",
    "print(f1_score(y_test,ada_pred,average=None))\n",
    "print(recall_score(y_test,ada_pred,average=None))\n",
    "print(precision_score(y_test,ada_pred,average=None))"
   ]
  },
  {
   "cell_type": "code",
   "execution_count": 40,
   "metadata": {},
   "outputs": [
    {
     "data": {
      "text/plain": [
       "array([[6, 1, 0, 0, 0],\n",
       "       [0, 6, 1, 3, 0],\n",
       "       [1, 0, 3, 0, 0],\n",
       "       [1, 1, 1, 7, 0],\n",
       "       [0, 5, 0, 0, 0]], dtype=int64)"
      ]
     },
     "execution_count": 40,
     "metadata": {},
     "output_type": "execute_result"
    }
   ],
   "source": [
    "confusion_matrix(y_test,ada_pred)"
   ]
  },
  {
   "cell_type": "markdown",
   "metadata": {},
   "source": [
    "# SVM"
   ]
  },
  {
   "cell_type": "code",
   "execution_count": 41,
   "metadata": {},
   "outputs": [],
   "source": [
    "from sklearn.svm import SVC\n",
    "linear_svc=SVC(kernel=\"rbf\")"
   ]
  },
  {
   "cell_type": "code",
   "execution_count": 42,
   "metadata": {},
   "outputs": [],
   "source": [
    "msvc=linear_svc.fit(x_train_scaled,y_train)\n",
    "svc_pred = msvc.predict(x_test_scaled)"
   ]
  },
  {
   "cell_type": "code",
   "execution_count": 43,
   "metadata": {},
   "outputs": [
    {
     "name": "stdout",
     "output_type": "stream",
     "text": [
      "0.8333333333333334\n",
      "[0.71428571 0.81818182 0.85714286 0.88888889 0.90909091]\n",
      "[0.71428571 0.9        0.75       0.8        1.        ]\n",
      "[0.71428571 0.75       1.         1.         0.83333333]\n"
     ]
    }
   ],
   "source": [
    "print(accuracy_score(y_test,svc_pred))\n",
    "print(f1_score(y_test,svc_pred,average=None))\n",
    "print(recall_score(y_test,svc_pred,average=None))\n",
    "print(precision_score(y_test,svc_pred,average=None))"
   ]
  },
  {
   "cell_type": "markdown",
   "metadata": {},
   "source": [
    "# Gradient boosting classifier"
   ]
  },
  {
   "cell_type": "code",
   "execution_count": 44,
   "metadata": {},
   "outputs": [],
   "source": [
    "from sklearn.ensemble import GradientBoostingClassifier\n",
    "gb_clf = GradientBoostingClassifier(n_estimators=500, learning_rate=0.01,random_state=42).fit(x_train, y_train)"
   ]
  },
  {
   "cell_type": "code",
   "execution_count": 45,
   "metadata": {},
   "outputs": [],
   "source": [
    "gb_pred = gb_clf.predict(x_test)"
   ]
  },
  {
   "cell_type": "code",
   "execution_count": 46,
   "metadata": {},
   "outputs": [
    {
     "name": "stdout",
     "output_type": "stream",
     "text": [
      "0.6944444444444444\n",
      "[0.61538462 0.76190476 0.5        0.66666667 0.83333333]\n",
      "[0.57142857 0.8        0.5        0.6        1.        ]\n",
      "[0.66666667 0.72727273 0.5        0.75       0.71428571]\n"
     ]
    }
   ],
   "source": [
    "print(accuracy_score(y_test,gb_pred))\n",
    "print(f1_score(y_test,gb_pred,average=None))\n",
    "print(recall_score(y_test,gb_pred,average=None))\n",
    "print(precision_score(y_test,gb_pred,average=None))"
   ]
  },
  {
   "cell_type": "markdown",
   "metadata": {},
   "source": [
    "# Stacking"
   ]
  },
  {
   "cell_type": "code",
   "execution_count": 47,
   "metadata": {},
   "outputs": [],
   "source": [
    "base  = [('cat',clf),('svc',msvc),('clf2',clf2)]\n",
    "meta_learner = xg"
   ]
  },
  {
   "cell_type": "code",
   "execution_count": 48,
   "metadata": {},
   "outputs": [
    {
     "name": "stdout",
     "output_type": "stream",
     "text": [
      "0:\tlearn: 1.5487363\ttotal: 5.45ms\tremaining: 813ms\n",
      "1:\tlearn: 1.4769515\ttotal: 6.98ms\tremaining: 516ms\n",
      "2:\tlearn: 1.4148233\ttotal: 8.37ms\tremaining: 410ms\n",
      "3:\tlearn: 1.3415652\ttotal: 9.58ms\tremaining: 350ms\n",
      "4:\tlearn: 1.2799174\ttotal: 10.9ms\tremaining: 315ms\n",
      "5:\tlearn: 1.2303846\ttotal: 12ms\tremaining: 288ms\n",
      "6:\tlearn: 1.1794090\ttotal: 13.1ms\tremaining: 268ms\n",
      "7:\tlearn: 1.1316149\ttotal: 14.6ms\tremaining: 259ms\n",
      "8:\tlearn: 1.0925486\ttotal: 15.8ms\tremaining: 247ms\n",
      "9:\tlearn: 1.0487800\ttotal: 17ms\tremaining: 239ms\n",
      "10:\tlearn: 1.0081421\ttotal: 18.2ms\tremaining: 230ms\n",
      "11:\tlearn: 0.9715217\ttotal: 19.6ms\tremaining: 226ms\n",
      "12:\tlearn: 0.9451214\ttotal: 21ms\tremaining: 222ms\n",
      "13:\tlearn: 0.9136801\ttotal: 22.2ms\tremaining: 216ms\n",
      "14:\tlearn: 0.8754285\ttotal: 23.8ms\tremaining: 215ms\n",
      "15:\tlearn: 0.8412078\ttotal: 25.2ms\tremaining: 211ms\n",
      "16:\tlearn: 0.8155829\ttotal: 26.4ms\tremaining: 206ms\n",
      "17:\tlearn: 0.7872231\ttotal: 27.6ms\tremaining: 202ms\n",
      "18:\tlearn: 0.7673241\ttotal: 28.6ms\tremaining: 197ms\n",
      "19:\tlearn: 0.7443909\ttotal: 29.7ms\tremaining: 193ms\n",
      "20:\tlearn: 0.7219422\ttotal: 30.8ms\tremaining: 189ms\n",
      "21:\tlearn: 0.6976280\ttotal: 31.9ms\tremaining: 185ms\n",
      "22:\tlearn: 0.6746010\ttotal: 32.8ms\tremaining: 181ms\n",
      "23:\tlearn: 0.6586503\ttotal: 33.8ms\tremaining: 177ms\n",
      "24:\tlearn: 0.6411536\ttotal: 34.8ms\tremaining: 174ms\n",
      "25:\tlearn: 0.6244361\ttotal: 35.7ms\tremaining: 170ms\n",
      "26:\tlearn: 0.6092354\ttotal: 36.6ms\tremaining: 167ms\n",
      "27:\tlearn: 0.5946576\ttotal: 37.5ms\tremaining: 163ms\n",
      "28:\tlearn: 0.5797403\ttotal: 38.4ms\tremaining: 160ms\n",
      "29:\tlearn: 0.5667185\ttotal: 39.4ms\tremaining: 158ms\n",
      "30:\tlearn: 0.5529608\ttotal: 40.3ms\tremaining: 155ms\n",
      "31:\tlearn: 0.5391671\ttotal: 41.3ms\tremaining: 152ms\n",
      "32:\tlearn: 0.5276693\ttotal: 42.2ms\tremaining: 150ms\n",
      "33:\tlearn: 0.5137117\ttotal: 43.1ms\tremaining: 147ms\n",
      "34:\tlearn: 0.4996038\ttotal: 44.1ms\tremaining: 145ms\n",
      "35:\tlearn: 0.4893140\ttotal: 45ms\tremaining: 142ms\n",
      "36:\tlearn: 0.4807518\ttotal: 45.9ms\tremaining: 140ms\n",
      "37:\tlearn: 0.4715273\ttotal: 46.9ms\tremaining: 138ms\n",
      "38:\tlearn: 0.4577787\ttotal: 47.8ms\tremaining: 136ms\n",
      "39:\tlearn: 0.4469440\ttotal: 48.8ms\tremaining: 134ms\n",
      "40:\tlearn: 0.4359980\ttotal: 49.8ms\tremaining: 132ms\n",
      "41:\tlearn: 0.4269957\ttotal: 50.7ms\tremaining: 130ms\n",
      "42:\tlearn: 0.4175047\ttotal: 51.7ms\tremaining: 129ms\n",
      "43:\tlearn: 0.4062644\ttotal: 52.7ms\tremaining: 127ms\n",
      "44:\tlearn: 0.3973097\ttotal: 53.6ms\tremaining: 125ms\n",
      "45:\tlearn: 0.3889764\ttotal: 54.6ms\tremaining: 123ms\n",
      "46:\tlearn: 0.3826249\ttotal: 55.5ms\tremaining: 122ms\n",
      "47:\tlearn: 0.3741510\ttotal: 56.4ms\tremaining: 120ms\n",
      "48:\tlearn: 0.3673500\ttotal: 57.4ms\tremaining: 118ms\n",
      "49:\tlearn: 0.3596757\ttotal: 58.4ms\tremaining: 117ms\n",
      "50:\tlearn: 0.3528807\ttotal: 59.3ms\tremaining: 115ms\n",
      "51:\tlearn: 0.3458989\ttotal: 60.2ms\tremaining: 114ms\n",
      "52:\tlearn: 0.3392214\ttotal: 61.2ms\tremaining: 112ms\n",
      "53:\tlearn: 0.3324863\ttotal: 62.1ms\tremaining: 110ms\n",
      "54:\tlearn: 0.3251235\ttotal: 63.1ms\tremaining: 109ms\n",
      "55:\tlearn: 0.3186967\ttotal: 64ms\tremaining: 107ms\n",
      "56:\tlearn: 0.3137383\ttotal: 65ms\tremaining: 106ms\n",
      "57:\tlearn: 0.3084798\ttotal: 65.9ms\tremaining: 105ms\n",
      "58:\tlearn: 0.3038217\ttotal: 66.9ms\tremaining: 103ms\n",
      "59:\tlearn: 0.2988899\ttotal: 67.8ms\tremaining: 102ms\n",
      "60:\tlearn: 0.2942830\ttotal: 68.7ms\tremaining: 100ms\n",
      "61:\tlearn: 0.2885181\ttotal: 69.6ms\tremaining: 98.8ms\n",
      "62:\tlearn: 0.2834654\ttotal: 70.6ms\tremaining: 97.5ms\n",
      "63:\tlearn: 0.2778096\ttotal: 71.5ms\tremaining: 96.1ms\n",
      "64:\tlearn: 0.2728068\ttotal: 72.5ms\tremaining: 94.8ms\n",
      "65:\tlearn: 0.2683618\ttotal: 73.4ms\tremaining: 93.5ms\n",
      "66:\tlearn: 0.2623379\ttotal: 74.4ms\tremaining: 92.2ms\n",
      "67:\tlearn: 0.2585409\ttotal: 75.3ms\tremaining: 90.8ms\n",
      "68:\tlearn: 0.2542287\ttotal: 76.3ms\tremaining: 89.5ms\n",
      "69:\tlearn: 0.2505874\ttotal: 77.2ms\tremaining: 88.2ms\n",
      "70:\tlearn: 0.2460103\ttotal: 78.1ms\tremaining: 86.9ms\n",
      "71:\tlearn: 0.2419376\ttotal: 79.1ms\tremaining: 85.7ms\n",
      "72:\tlearn: 0.2388421\ttotal: 80ms\tremaining: 84.4ms\n",
      "73:\tlearn: 0.2349436\ttotal: 80.9ms\tremaining: 83.1ms\n",
      "74:\tlearn: 0.2308044\ttotal: 81.9ms\tremaining: 81.9ms\n",
      "75:\tlearn: 0.2265994\ttotal: 82.8ms\tremaining: 80.7ms\n",
      "76:\tlearn: 0.2231738\ttotal: 83.8ms\tremaining: 79.4ms\n",
      "77:\tlearn: 0.2195090\ttotal: 84.8ms\tremaining: 78.2ms\n",
      "78:\tlearn: 0.2152830\ttotal: 85.7ms\tremaining: 77ms\n",
      "79:\tlearn: 0.2122261\ttotal: 86.6ms\tremaining: 75.8ms\n",
      "80:\tlearn: 0.2094691\ttotal: 87.6ms\tremaining: 74.6ms\n",
      "81:\tlearn: 0.2062083\ttotal: 88.5ms\tremaining: 73.4ms\n",
      "82:\tlearn: 0.2031732\ttotal: 89.5ms\tremaining: 72.2ms\n",
      "83:\tlearn: 0.2000930\ttotal: 90.4ms\tremaining: 71.1ms\n",
      "84:\tlearn: 0.1968383\ttotal: 91.4ms\tremaining: 69.9ms\n",
      "85:\tlearn: 0.1935593\ttotal: 92.3ms\tremaining: 68.7ms\n",
      "86:\tlearn: 0.1912825\ttotal: 93.2ms\tremaining: 67.5ms\n",
      "87:\tlearn: 0.1888964\ttotal: 94.2ms\tremaining: 66.4ms\n",
      "88:\tlearn: 0.1860065\ttotal: 95.1ms\tremaining: 65.2ms\n",
      "89:\tlearn: 0.1833359\ttotal: 96ms\tremaining: 64ms\n",
      "90:\tlearn: 0.1802711\ttotal: 97ms\tremaining: 62.9ms\n",
      "91:\tlearn: 0.1781503\ttotal: 97.9ms\tremaining: 61.7ms\n",
      "92:\tlearn: 0.1758688\ttotal: 98.8ms\tremaining: 60.6ms\n",
      "93:\tlearn: 0.1736411\ttotal: 99.8ms\tremaining: 59.4ms\n",
      "94:\tlearn: 0.1714549\ttotal: 101ms\tremaining: 58.3ms\n",
      "95:\tlearn: 0.1693986\ttotal: 102ms\tremaining: 57.2ms\n",
      "96:\tlearn: 0.1672146\ttotal: 103ms\tremaining: 56ms\n",
      "97:\tlearn: 0.1652195\ttotal: 103ms\tremaining: 54.9ms\n",
      "98:\tlearn: 0.1633205\ttotal: 104ms\tremaining: 53.8ms\n",
      "99:\tlearn: 0.1612655\ttotal: 105ms\tremaining: 52.7ms\n",
      "100:\tlearn: 0.1592779\ttotal: 106ms\tremaining: 51.5ms\n",
      "101:\tlearn: 0.1571199\ttotal: 107ms\tremaining: 50.4ms\n",
      "102:\tlearn: 0.1550490\ttotal: 108ms\tremaining: 49.3ms\n",
      "103:\tlearn: 0.1527946\ttotal: 109ms\tremaining: 48.2ms\n",
      "104:\tlearn: 0.1508595\ttotal: 110ms\tremaining: 47.1ms\n",
      "105:\tlearn: 0.1490023\ttotal: 111ms\tremaining: 46ms\n",
      "106:\tlearn: 0.1469470\ttotal: 112ms\tremaining: 44.9ms\n",
      "107:\tlearn: 0.1451804\ttotal: 113ms\tremaining: 43.9ms\n",
      "108:\tlearn: 0.1430906\ttotal: 114ms\tremaining: 42.8ms\n",
      "109:\tlearn: 0.1410809\ttotal: 115ms\tremaining: 41.7ms\n",
      "110:\tlearn: 0.1395804\ttotal: 116ms\tremaining: 40.6ms\n",
      "111:\tlearn: 0.1378567\ttotal: 117ms\tremaining: 39.5ms\n",
      "112:\tlearn: 0.1365455\ttotal: 117ms\tremaining: 38.5ms\n",
      "113:\tlearn: 0.1355684\ttotal: 118ms\tremaining: 37.4ms\n",
      "114:\tlearn: 0.1339167\ttotal: 119ms\tremaining: 36.3ms\n",
      "115:\tlearn: 0.1325462\ttotal: 120ms\tremaining: 35.2ms\n",
      "116:\tlearn: 0.1306966\ttotal: 121ms\tremaining: 34.2ms\n",
      "117:\tlearn: 0.1294793\ttotal: 122ms\tremaining: 33.1ms\n",
      "118:\tlearn: 0.1282807\ttotal: 123ms\tremaining: 32ms\n",
      "119:\tlearn: 0.1270164\ttotal: 124ms\tremaining: 31ms\n",
      "120:\tlearn: 0.1255969\ttotal: 125ms\tremaining: 29.9ms\n",
      "121:\tlearn: 0.1245423\ttotal: 126ms\tremaining: 28.9ms\n",
      "122:\tlearn: 0.1227839\ttotal: 127ms\tremaining: 27.8ms\n",
      "123:\tlearn: 0.1212773\ttotal: 128ms\tremaining: 26.8ms\n",
      "124:\tlearn: 0.1203639\ttotal: 129ms\tremaining: 25.7ms\n",
      "125:\tlearn: 0.1187372\ttotal: 130ms\tremaining: 24.7ms\n",
      "126:\tlearn: 0.1175865\ttotal: 130ms\tremaining: 23.6ms\n",
      "127:\tlearn: 0.1164748\ttotal: 131ms\tremaining: 22.6ms\n",
      "128:\tlearn: 0.1153340\ttotal: 132ms\tremaining: 21.5ms\n",
      "129:\tlearn: 0.1141583\ttotal: 133ms\tremaining: 20.5ms\n",
      "130:\tlearn: 0.1131560\ttotal: 134ms\tremaining: 19.5ms\n",
      "131:\tlearn: 0.1118952\ttotal: 135ms\tremaining: 18.4ms\n",
      "132:\tlearn: 0.1110284\ttotal: 136ms\tremaining: 17.4ms\n",
      "133:\tlearn: 0.1101992\ttotal: 137ms\tremaining: 16.3ms\n",
      "134:\tlearn: 0.1088663\ttotal: 138ms\tremaining: 15.3ms\n",
      "135:\tlearn: 0.1079615\ttotal: 139ms\tremaining: 14.3ms\n",
      "136:\tlearn: 0.1069156\ttotal: 140ms\tremaining: 13.3ms\n",
      "137:\tlearn: 0.1058219\ttotal: 141ms\tremaining: 12.2ms\n",
      "138:\tlearn: 0.1051062\ttotal: 141ms\tremaining: 11.2ms\n",
      "139:\tlearn: 0.1041938\ttotal: 142ms\tremaining: 10.2ms\n",
      "140:\tlearn: 0.1032705\ttotal: 143ms\tremaining: 9.15ms\n",
      "141:\tlearn: 0.1023783\ttotal: 144ms\tremaining: 8.13ms\n",
      "142:\tlearn: 0.1017089\ttotal: 145ms\tremaining: 7.11ms\n",
      "143:\tlearn: 0.1006543\ttotal: 146ms\tremaining: 6.09ms\n",
      "144:\tlearn: 0.0998828\ttotal: 147ms\tremaining: 5.07ms\n",
      "145:\tlearn: 0.0988708\ttotal: 148ms\tremaining: 4.06ms\n",
      "146:\tlearn: 0.0979125\ttotal: 149ms\tremaining: 3.04ms\n",
      "147:\tlearn: 0.0969968\ttotal: 150ms\tremaining: 2.02ms\n",
      "148:\tlearn: 0.0963590\ttotal: 151ms\tremaining: 1.01ms\n",
      "149:\tlearn: 0.0954312\ttotal: 152ms\tremaining: 0us\n",
      "0:\tlearn: 1.5436695\ttotal: 1.23ms\tremaining: 183ms\n",
      "1:\tlearn: 1.4809900\ttotal: 2.31ms\tremaining: 171ms\n",
      "2:\tlearn: 1.4352951\ttotal: 3.33ms\tremaining: 163ms\n",
      "3:\tlearn: 1.3695939\ttotal: 4.29ms\tremaining: 157ms\n",
      "4:\tlearn: 1.3075340\ttotal: 5.09ms\tremaining: 148ms\n",
      "5:\tlearn: 1.2502138\ttotal: 5.89ms\tremaining: 141ms\n",
      "6:\tlearn: 1.2042788\ttotal: 6.7ms\tremaining: 137ms\n",
      "7:\tlearn: 1.1564416\ttotal: 7.47ms\tremaining: 133ms\n",
      "8:\tlearn: 1.1184428\ttotal: 8.26ms\tremaining: 129ms\n",
      "9:\tlearn: 1.0809770\ttotal: 9.06ms\tremaining: 127ms\n",
      "10:\tlearn: 1.0443246\ttotal: 9.84ms\tremaining: 124ms\n",
      "11:\tlearn: 0.9996747\ttotal: 10.7ms\tremaining: 123ms\n",
      "12:\tlearn: 0.9688612\ttotal: 11.5ms\tremaining: 121ms\n",
      "13:\tlearn: 0.9355595\ttotal: 12.3ms\tremaining: 120ms\n",
      "14:\tlearn: 0.9000488\ttotal: 12.9ms\tremaining: 116ms\n",
      "15:\tlearn: 0.8698040\ttotal: 13.7ms\tremaining: 115ms\n",
      "16:\tlearn: 0.8358155\ttotal: 14.6ms\tremaining: 114ms\n",
      "17:\tlearn: 0.8103460\ttotal: 15.4ms\tremaining: 113ms\n",
      "18:\tlearn: 0.7822732\ttotal: 16.2ms\tremaining: 112ms\n",
      "19:\tlearn: 0.7624803\ttotal: 17.1ms\tremaining: 111ms\n",
      "20:\tlearn: 0.7419858\ttotal: 17.8ms\tremaining: 110ms\n",
      "21:\tlearn: 0.7200738\ttotal: 18.6ms\tremaining: 108ms\n",
      "22:\tlearn: 0.7030738\ttotal: 19.4ms\tremaining: 107ms\n",
      "23:\tlearn: 0.6830281\ttotal: 20.2ms\tremaining: 106ms\n",
      "24:\tlearn: 0.6653843\ttotal: 21ms\tremaining: 105ms\n",
      "25:\tlearn: 0.6472283\ttotal: 21.8ms\tremaining: 104ms\n",
      "26:\tlearn: 0.6254494\ttotal: 22.6ms\tremaining: 103ms\n",
      "27:\tlearn: 0.6030732\ttotal: 23.7ms\tremaining: 103ms\n",
      "28:\tlearn: 0.5875429\ttotal: 24.5ms\tremaining: 102ms\n",
      "29:\tlearn: 0.5727087\ttotal: 25.3ms\tremaining: 101ms\n",
      "30:\tlearn: 0.5606709\ttotal: 26.1ms\tremaining: 100ms\n",
      "31:\tlearn: 0.5431203\ttotal: 26.9ms\tremaining: 99.2ms\n",
      "32:\tlearn: 0.5305877\ttotal: 27.7ms\tremaining: 98.3ms\n",
      "33:\tlearn: 0.5158243\ttotal: 28.5ms\tremaining: 97.3ms\n",
      "34:\tlearn: 0.5044819\ttotal: 29.3ms\tremaining: 96.3ms\n",
      "35:\tlearn: 0.4950424\ttotal: 30.1ms\tremaining: 95.3ms\n",
      "36:\tlearn: 0.4824678\ttotal: 30.9ms\tremaining: 94.4ms\n",
      "37:\tlearn: 0.4714707\ttotal: 31.7ms\tremaining: 93.4ms\n",
      "38:\tlearn: 0.4601925\ttotal: 32.5ms\tremaining: 92.5ms\n",
      "39:\tlearn: 0.4504946\ttotal: 33.3ms\tremaining: 91.6ms\n",
      "40:\tlearn: 0.4404235\ttotal: 34.1ms\tremaining: 90.7ms\n",
      "41:\tlearn: 0.4276034\ttotal: 34.9ms\tremaining: 89.8ms\n",
      "42:\tlearn: 0.4173475\ttotal: 35.7ms\tremaining: 88.9ms\n",
      "43:\tlearn: 0.4067609\ttotal: 36.7ms\tremaining: 88.5ms\n",
      "44:\tlearn: 0.3989747\ttotal: 37.6ms\tremaining: 87.6ms\n",
      "45:\tlearn: 0.3886982\ttotal: 38.4ms\tremaining: 86.8ms\n",
      "46:\tlearn: 0.3830821\ttotal: 39.2ms\tremaining: 85.8ms\n",
      "47:\tlearn: 0.3754969\ttotal: 40ms\tremaining: 85ms\n",
      "48:\tlearn: 0.3662879\ttotal: 40.8ms\tremaining: 84ms\n",
      "49:\tlearn: 0.3586797\ttotal: 41.6ms\tremaining: 83.2ms\n",
      "50:\tlearn: 0.3505446\ttotal: 42.4ms\tremaining: 82.3ms\n",
      "51:\tlearn: 0.3438620\ttotal: 43.2ms\tremaining: 81.3ms\n",
      "52:\tlearn: 0.3370567\ttotal: 44ms\tremaining: 80.5ms\n",
      "53:\tlearn: 0.3297106\ttotal: 44.9ms\tremaining: 79.8ms\n",
      "54:\tlearn: 0.3234512\ttotal: 45.7ms\tremaining: 79ms\n",
      "55:\tlearn: 0.3178999\ttotal: 46.5ms\tremaining: 78ms\n",
      "56:\tlearn: 0.3118556\ttotal: 47.3ms\tremaining: 77.1ms\n",
      "57:\tlearn: 0.3054190\ttotal: 48.1ms\tremaining: 76.3ms\n",
      "58:\tlearn: 0.2994871\ttotal: 48.9ms\tremaining: 75.5ms\n",
      "59:\tlearn: 0.2942434\ttotal: 49.8ms\tremaining: 74.7ms\n",
      "60:\tlearn: 0.2889474\ttotal: 50.6ms\tremaining: 73.8ms\n",
      "61:\tlearn: 0.2823152\ttotal: 51.4ms\tremaining: 73ms\n",
      "62:\tlearn: 0.2777420\ttotal: 52.2ms\tremaining: 72.1ms\n",
      "63:\tlearn: 0.2714588\ttotal: 53ms\tremaining: 71.2ms\n",
      "64:\tlearn: 0.2659432\ttotal: 53.8ms\tremaining: 70.4ms\n",
      "65:\tlearn: 0.2625853\ttotal: 54.7ms\tremaining: 69.7ms\n",
      "66:\tlearn: 0.2569134\ttotal: 55.6ms\tremaining: 68.8ms\n",
      "67:\tlearn: 0.2530886\ttotal: 56.4ms\tremaining: 68ms\n",
      "68:\tlearn: 0.2487502\ttotal: 57.3ms\tremaining: 67.3ms\n",
      "69:\tlearn: 0.2445080\ttotal: 58.1ms\tremaining: 66.4ms\n",
      "70:\tlearn: 0.2404076\ttotal: 58.9ms\tremaining: 65.6ms\n",
      "71:\tlearn: 0.2367201\ttotal: 59.9ms\tremaining: 64.9ms\n",
      "72:\tlearn: 0.2323031\ttotal: 60.7ms\tremaining: 64ms\n",
      "73:\tlearn: 0.2280319\ttotal: 61.5ms\tremaining: 63.1ms\n",
      "74:\tlearn: 0.2247017\ttotal: 62.4ms\tremaining: 62.4ms\n",
      "75:\tlearn: 0.2214367\ttotal: 63.2ms\tremaining: 61.5ms\n",
      "76:\tlearn: 0.2169691\ttotal: 64ms\tremaining: 60.7ms\n",
      "77:\tlearn: 0.2134930\ttotal: 64.8ms\tremaining: 59.8ms\n",
      "78:\tlearn: 0.2094273\ttotal: 65.6ms\tremaining: 59ms\n",
      "79:\tlearn: 0.2057121\ttotal: 66.4ms\tremaining: 58.1ms\n",
      "80:\tlearn: 0.2028476\ttotal: 67.2ms\tremaining: 57.2ms\n",
      "81:\tlearn: 0.1997696\ttotal: 68ms\tremaining: 56.4ms\n",
      "82:\tlearn: 0.1962925\ttotal: 68.7ms\tremaining: 55.5ms\n",
      "83:\tlearn: 0.1936684\ttotal: 69.5ms\tremaining: 54.6ms\n",
      "84:\tlearn: 0.1906734\ttotal: 70.3ms\tremaining: 53.8ms\n",
      "85:\tlearn: 0.1873682\ttotal: 71.1ms\tremaining: 52.9ms\n",
      "86:\tlearn: 0.1849780\ttotal: 71.9ms\tremaining: 52.1ms\n",
      "87:\tlearn: 0.1823061\ttotal: 72.7ms\tremaining: 51.2ms\n",
      "88:\tlearn: 0.1791728\ttotal: 73.5ms\tremaining: 50.4ms\n",
      "89:\tlearn: 0.1766488\ttotal: 74.3ms\tremaining: 49.5ms\n",
      "90:\tlearn: 0.1736394\ttotal: 75.1ms\tremaining: 48.7ms\n",
      "91:\tlearn: 0.1711416\ttotal: 75.9ms\tremaining: 47.9ms\n",
      "92:\tlearn: 0.1687971\ttotal: 76.7ms\tremaining: 47ms\n",
      "93:\tlearn: 0.1666104\ttotal: 77.5ms\tremaining: 46.2ms\n",
      "94:\tlearn: 0.1642181\ttotal: 78.3ms\tremaining: 45.3ms\n",
      "95:\tlearn: 0.1619728\ttotal: 79.1ms\tremaining: 44.5ms\n",
      "96:\tlearn: 0.1599432\ttotal: 79.8ms\tremaining: 43.6ms\n",
      "97:\tlearn: 0.1580369\ttotal: 80.6ms\tremaining: 42.8ms\n",
      "98:\tlearn: 0.1554283\ttotal: 81.4ms\tremaining: 41.9ms\n",
      "99:\tlearn: 0.1535635\ttotal: 82.2ms\tremaining: 41.1ms\n",
      "100:\tlearn: 0.1518179\ttotal: 83ms\tremaining: 40.3ms\n",
      "101:\tlearn: 0.1501446\ttotal: 83.8ms\tremaining: 39.4ms\n",
      "102:\tlearn: 0.1485404\ttotal: 84.6ms\tremaining: 38.6ms\n",
      "103:\tlearn: 0.1462583\ttotal: 85.4ms\tremaining: 37.8ms\n",
      "104:\tlearn: 0.1441413\ttotal: 86.1ms\tremaining: 36.9ms\n",
      "105:\tlearn: 0.1419500\ttotal: 86.9ms\tremaining: 36.1ms\n",
      "106:\tlearn: 0.1404816\ttotal: 87.7ms\tremaining: 35.2ms\n",
      "107:\tlearn: 0.1387488\ttotal: 88.5ms\tremaining: 34.4ms\n",
      "108:\tlearn: 0.1366745\ttotal: 89.3ms\tremaining: 33.6ms\n",
      "109:\tlearn: 0.1351106\ttotal: 90.1ms\tremaining: 32.8ms\n",
      "110:\tlearn: 0.1337933\ttotal: 90.9ms\tremaining: 31.9ms\n",
      "111:\tlearn: 0.1322157\ttotal: 91.7ms\tremaining: 31.1ms\n",
      "112:\tlearn: 0.1305168\ttotal: 92.4ms\tremaining: 30.3ms\n",
      "113:\tlearn: 0.1292259\ttotal: 93.2ms\tremaining: 29.4ms\n",
      "114:\tlearn: 0.1278381\ttotal: 94ms\tremaining: 28.6ms\n",
      "115:\tlearn: 0.1266326\ttotal: 94.8ms\tremaining: 27.8ms\n",
      "116:\tlearn: 0.1246513\ttotal: 95.6ms\tremaining: 27ms\n",
      "117:\tlearn: 0.1232401\ttotal: 96.4ms\tremaining: 26.1ms\n",
      "118:\tlearn: 0.1219415\ttotal: 97.1ms\tremaining: 25.3ms\n",
      "119:\tlearn: 0.1206641\ttotal: 97.9ms\tremaining: 24.5ms\n",
      "120:\tlearn: 0.1192946\ttotal: 98.7ms\tremaining: 23.7ms\n",
      "121:\tlearn: 0.1178124\ttotal: 99.5ms\tremaining: 22.8ms\n",
      "122:\tlearn: 0.1166696\ttotal: 100ms\tremaining: 22ms\n",
      "123:\tlearn: 0.1152180\ttotal: 101ms\tremaining: 21.2ms\n",
      "124:\tlearn: 0.1140465\ttotal: 102ms\tremaining: 20.4ms\n",
      "125:\tlearn: 0.1129198\ttotal: 103ms\tremaining: 19.5ms\n",
      "126:\tlearn: 0.1119568\ttotal: 103ms\tremaining: 18.7ms\n",
      "127:\tlearn: 0.1110316\ttotal: 104ms\tremaining: 17.9ms\n",
      "128:\tlearn: 0.1098505\ttotal: 105ms\tremaining: 17.1ms\n",
      "129:\tlearn: 0.1088209\ttotal: 106ms\tremaining: 16.3ms\n",
      "130:\tlearn: 0.1078933\ttotal: 107ms\tremaining: 15.5ms\n",
      "131:\tlearn: 0.1068329\ttotal: 107ms\tremaining: 14.6ms\n",
      "132:\tlearn: 0.1058394\ttotal: 108ms\tremaining: 13.8ms\n",
      "133:\tlearn: 0.1049114\ttotal: 109ms\tremaining: 13ms\n",
      "134:\tlearn: 0.1039051\ttotal: 110ms\tremaining: 12.2ms\n",
      "135:\tlearn: 0.1028542\ttotal: 110ms\tremaining: 11.4ms\n",
      "136:\tlearn: 0.1018319\ttotal: 111ms\tremaining: 10.6ms\n",
      "137:\tlearn: 0.1009393\ttotal: 112ms\tremaining: 9.74ms\n",
      "138:\tlearn: 0.1001874\ttotal: 113ms\tremaining: 8.92ms\n",
      "139:\tlearn: 0.0990135\ttotal: 114ms\tremaining: 8.11ms\n",
      "140:\tlearn: 0.0978201\ttotal: 114ms\tremaining: 7.3ms\n",
      "141:\tlearn: 0.0969815\ttotal: 115ms\tremaining: 6.49ms\n",
      "142:\tlearn: 0.0960606\ttotal: 116ms\tremaining: 5.67ms\n",
      "143:\tlearn: 0.0953764\ttotal: 117ms\tremaining: 4.87ms\n",
      "144:\tlearn: 0.0944848\ttotal: 118ms\tremaining: 4.05ms\n",
      "145:\tlearn: 0.0935399\ttotal: 118ms\tremaining: 3.24ms\n",
      "146:\tlearn: 0.0924990\ttotal: 119ms\tremaining: 2.43ms\n",
      "147:\tlearn: 0.0915191\ttotal: 120ms\tremaining: 1.62ms\n",
      "148:\tlearn: 0.0906666\ttotal: 121ms\tremaining: 810us\n",
      "149:\tlearn: 0.0899564\ttotal: 122ms\tremaining: 0us\n"
     ]
    },
    {
     "name": "stdout",
     "output_type": "stream",
     "text": [
      "0:\tlearn: 1.5382191\ttotal: 4.29ms\tremaining: 639ms\n",
      "1:\tlearn: 1.4661403\ttotal: 8.25ms\tremaining: 610ms\n",
      "2:\tlearn: 1.4105389\ttotal: 12.3ms\tremaining: 603ms\n",
      "3:\tlearn: 1.3595282\ttotal: 16.3ms\tremaining: 596ms\n",
      "4:\tlearn: 1.3038023\ttotal: 20.1ms\tremaining: 582ms\n",
      "5:\tlearn: 1.2413347\ttotal: 24ms\tremaining: 576ms\n",
      "6:\tlearn: 1.1813855\ttotal: 27.9ms\tremaining: 571ms\n",
      "7:\tlearn: 1.1375453\ttotal: 32ms\tremaining: 567ms\n",
      "8:\tlearn: 1.1040456\ttotal: 34.8ms\tremaining: 544ms\n",
      "9:\tlearn: 1.0632618\ttotal: 37.4ms\tremaining: 524ms\n",
      "10:\tlearn: 1.0234403\ttotal: 39.7ms\tremaining: 501ms\n",
      "11:\tlearn: 0.9881775\ttotal: 40.6ms\tremaining: 467ms\n",
      "12:\tlearn: 0.9611651\ttotal: 41.6ms\tremaining: 439ms\n",
      "13:\tlearn: 0.9233894\ttotal: 42.6ms\tremaining: 414ms\n",
      "14:\tlearn: 0.8928251\ttotal: 43.6ms\tremaining: 392ms\n",
      "15:\tlearn: 0.8597433\ttotal: 44.5ms\tremaining: 373ms\n",
      "16:\tlearn: 0.8265989\ttotal: 45.3ms\tremaining: 355ms\n",
      "17:\tlearn: 0.8031682\ttotal: 46.1ms\tremaining: 338ms\n",
      "18:\tlearn: 0.7813607\ttotal: 46.9ms\tremaining: 324ms\n",
      "19:\tlearn: 0.7560174\ttotal: 47.7ms\tremaining: 310ms\n",
      "20:\tlearn: 0.7289674\ttotal: 48.6ms\tremaining: 298ms\n",
      "21:\tlearn: 0.7023490\ttotal: 49.4ms\tremaining: 287ms\n",
      "22:\tlearn: 0.6839482\ttotal: 50.2ms\tremaining: 277ms\n",
      "23:\tlearn: 0.6686428\ttotal: 51ms\tremaining: 268ms\n",
      "24:\tlearn: 0.6494998\ttotal: 51.8ms\tremaining: 259ms\n",
      "25:\tlearn: 0.6347742\ttotal: 52.6ms\tremaining: 251ms\n",
      "26:\tlearn: 0.6157046\ttotal: 53.5ms\tremaining: 244ms\n",
      "27:\tlearn: 0.5996635\ttotal: 54.2ms\tremaining: 236ms\n",
      "28:\tlearn: 0.5756584\ttotal: 55.1ms\tremaining: 230ms\n",
      "29:\tlearn: 0.5643554\ttotal: 55.9ms\tremaining: 223ms\n",
      "30:\tlearn: 0.5517333\ttotal: 56.7ms\tremaining: 218ms\n",
      "31:\tlearn: 0.5358945\ttotal: 57.5ms\tremaining: 212ms\n",
      "32:\tlearn: 0.5215225\ttotal: 58.3ms\tremaining: 207ms\n",
      "33:\tlearn: 0.5109884\ttotal: 59.1ms\tremaining: 202ms\n",
      "34:\tlearn: 0.4959349\ttotal: 59.9ms\tremaining: 197ms\n",
      "35:\tlearn: 0.4865782\ttotal: 60.7ms\tremaining: 192ms\n",
      "36:\tlearn: 0.4764239\ttotal: 61.5ms\tremaining: 188ms\n",
      "37:\tlearn: 0.4645489\ttotal: 62.3ms\tremaining: 184ms\n",
      "38:\tlearn: 0.4527551\ttotal: 63.1ms\tremaining: 180ms\n",
      "39:\tlearn: 0.4395021\ttotal: 64ms\tremaining: 176ms\n",
      "40:\tlearn: 0.4306409\ttotal: 64.8ms\tremaining: 172ms\n",
      "41:\tlearn: 0.4222688\ttotal: 65.6ms\tremaining: 169ms\n",
      "42:\tlearn: 0.4125638\ttotal: 66.4ms\tremaining: 165ms\n",
      "43:\tlearn: 0.4012267\ttotal: 67.2ms\tremaining: 162ms\n",
      "44:\tlearn: 0.3925311\ttotal: 68ms\tremaining: 159ms\n",
      "45:\tlearn: 0.3839865\ttotal: 68.8ms\tremaining: 156ms\n",
      "46:\tlearn: 0.3766217\ttotal: 69.6ms\tremaining: 153ms\n",
      "47:\tlearn: 0.3679978\ttotal: 70.4ms\tremaining: 150ms\n",
      "48:\tlearn: 0.3568384\ttotal: 71.2ms\tremaining: 147ms\n",
      "49:\tlearn: 0.3474069\ttotal: 72ms\tremaining: 144ms\n",
      "50:\tlearn: 0.3402481\ttotal: 72.8ms\tremaining: 141ms\n",
      "51:\tlearn: 0.3328248\ttotal: 73.6ms\tremaining: 139ms\n",
      "52:\tlearn: 0.3273563\ttotal: 74.4ms\tremaining: 136ms\n",
      "53:\tlearn: 0.3207944\ttotal: 75.2ms\tremaining: 134ms\n",
      "54:\tlearn: 0.3146705\ttotal: 76ms\tremaining: 131ms\n",
      "55:\tlearn: 0.3077549\ttotal: 76.9ms\tremaining: 129ms\n",
      "56:\tlearn: 0.3013174\ttotal: 77.7ms\tremaining: 127ms\n",
      "57:\tlearn: 0.2964654\ttotal: 78.5ms\tremaining: 125ms\n",
      "58:\tlearn: 0.2909175\ttotal: 79.3ms\tremaining: 122ms\n",
      "59:\tlearn: 0.2854563\ttotal: 80.1ms\tremaining: 120ms\n",
      "60:\tlearn: 0.2781019\ttotal: 81ms\tremaining: 118ms\n",
      "61:\tlearn: 0.2730891\ttotal: 81.9ms\tremaining: 116ms\n",
      "62:\tlearn: 0.2685934\ttotal: 82.8ms\tremaining: 114ms\n",
      "63:\tlearn: 0.2636913\ttotal: 83.7ms\tremaining: 112ms\n",
      "64:\tlearn: 0.2582880\ttotal: 84.6ms\tremaining: 111ms\n",
      "65:\tlearn: 0.2536553\ttotal: 85.5ms\tremaining: 109ms\n",
      "66:\tlearn: 0.2495328\ttotal: 86.4ms\tremaining: 107ms\n",
      "67:\tlearn: 0.2452415\ttotal: 87.3ms\tremaining: 105ms\n",
      "68:\tlearn: 0.2409729\ttotal: 88.2ms\tremaining: 104ms\n",
      "69:\tlearn: 0.2372017\ttotal: 89.1ms\tremaining: 102ms\n",
      "70:\tlearn: 0.2330071\ttotal: 89.8ms\tremaining: 100ms\n",
      "71:\tlearn: 0.2300166\ttotal: 90.7ms\tremaining: 98.2ms\n",
      "72:\tlearn: 0.2258260\ttotal: 91.5ms\tremaining: 96.5ms\n",
      "73:\tlearn: 0.2219368\ttotal: 92.3ms\tremaining: 94.8ms\n",
      "74:\tlearn: 0.2174575\ttotal: 93.1ms\tremaining: 93.1ms\n",
      "75:\tlearn: 0.2135358\ttotal: 94ms\tremaining: 91.5ms\n",
      "76:\tlearn: 0.2084595\ttotal: 94.8ms\tremaining: 89.9ms\n",
      "77:\tlearn: 0.2049128\ttotal: 95.6ms\tremaining: 88.3ms\n",
      "78:\tlearn: 0.2018479\ttotal: 96.4ms\tremaining: 86.7ms\n",
      "79:\tlearn: 0.1987485\ttotal: 97.3ms\tremaining: 85.1ms\n",
      "80:\tlearn: 0.1955647\ttotal: 98.1ms\tremaining: 83.6ms\n",
      "81:\tlearn: 0.1927594\ttotal: 98.9ms\tremaining: 82ms\n",
      "82:\tlearn: 0.1895050\ttotal: 99.8ms\tremaining: 80.5ms\n",
      "83:\tlearn: 0.1868275\ttotal: 101ms\tremaining: 79.1ms\n",
      "84:\tlearn: 0.1842629\ttotal: 101ms\tremaining: 77.6ms\n",
      "85:\tlearn: 0.1813658\ttotal: 102ms\tremaining: 76.1ms\n",
      "86:\tlearn: 0.1786333\ttotal: 103ms\tremaining: 74.6ms\n",
      "87:\tlearn: 0.1764513\ttotal: 104ms\tremaining: 73.2ms\n",
      "88:\tlearn: 0.1740056\ttotal: 105ms\tremaining: 71.7ms\n",
      "89:\tlearn: 0.1712148\ttotal: 105ms\tremaining: 70.1ms\n",
      "90:\tlearn: 0.1692499\ttotal: 106ms\tremaining: 68.7ms\n",
      "91:\tlearn: 0.1667761\ttotal: 107ms\tremaining: 67.3ms\n",
      "92:\tlearn: 0.1646861\ttotal: 108ms\tremaining: 65.9ms\n",
      "93:\tlearn: 0.1627894\ttotal: 108ms\tremaining: 64.6ms\n",
      "94:\tlearn: 0.1607116\ttotal: 109ms\tremaining: 63.2ms\n",
      "95:\tlearn: 0.1584216\ttotal: 110ms\tremaining: 61.8ms\n",
      "96:\tlearn: 0.1565549\ttotal: 111ms\tremaining: 60.5ms\n",
      "97:\tlearn: 0.1544072\ttotal: 111ms\tremaining: 59.2ms\n",
      "98:\tlearn: 0.1524841\ttotal: 112ms\tremaining: 57.9ms\n",
      "99:\tlearn: 0.1507075\ttotal: 113ms\tremaining: 56.6ms\n",
      "100:\tlearn: 0.1487822\ttotal: 114ms\tremaining: 55.3ms\n",
      "101:\tlearn: 0.1468388\ttotal: 115ms\tremaining: 54ms\n",
      "102:\tlearn: 0.1448949\ttotal: 116ms\tremaining: 52.7ms\n",
      "103:\tlearn: 0.1432018\ttotal: 116ms\tremaining: 51.4ms\n",
      "104:\tlearn: 0.1413056\ttotal: 117ms\tremaining: 50.2ms\n",
      "105:\tlearn: 0.1390835\ttotal: 118ms\tremaining: 48.9ms\n",
      "106:\tlearn: 0.1378800\ttotal: 119ms\tremaining: 47.7ms\n",
      "107:\tlearn: 0.1362820\ttotal: 120ms\tremaining: 46.5ms\n",
      "108:\tlearn: 0.1347965\ttotal: 120ms\tremaining: 45.3ms\n",
      "109:\tlearn: 0.1325327\ttotal: 121ms\tremaining: 44.1ms\n",
      "110:\tlearn: 0.1310047\ttotal: 122ms\tremaining: 42.9ms\n",
      "111:\tlearn: 0.1293912\ttotal: 123ms\tremaining: 41.7ms\n",
      "112:\tlearn: 0.1281216\ttotal: 124ms\tremaining: 40.5ms\n",
      "113:\tlearn: 0.1269718\ttotal: 124ms\tremaining: 39.3ms\n",
      "114:\tlearn: 0.1256863\ttotal: 125ms\tremaining: 38.1ms\n",
      "115:\tlearn: 0.1242941\ttotal: 126ms\tremaining: 36.9ms\n",
      "116:\tlearn: 0.1230582\ttotal: 127ms\tremaining: 35.8ms\n",
      "117:\tlearn: 0.1210699\ttotal: 128ms\tremaining: 34.6ms\n",
      "118:\tlearn: 0.1196201\ttotal: 129ms\tremaining: 33.5ms\n",
      "119:\tlearn: 0.1180267\ttotal: 129ms\tremaining: 32.3ms\n",
      "120:\tlearn: 0.1163672\ttotal: 130ms\tremaining: 31.2ms\n",
      "121:\tlearn: 0.1150834\ttotal: 131ms\tremaining: 30.1ms\n",
      "122:\tlearn: 0.1136260\ttotal: 132ms\tremaining: 28.9ms\n",
      "123:\tlearn: 0.1127235\ttotal: 133ms\tremaining: 27.8ms\n",
      "124:\tlearn: 0.1116493\ttotal: 133ms\tremaining: 26.7ms\n",
      "125:\tlearn: 0.1101413\ttotal: 134ms\tremaining: 25.6ms\n",
      "126:\tlearn: 0.1090218\ttotal: 135ms\tremaining: 24.4ms\n",
      "127:\tlearn: 0.1075110\ttotal: 136ms\tremaining: 23.3ms\n",
      "128:\tlearn: 0.1065108\ttotal: 137ms\tremaining: 22.2ms\n",
      "129:\tlearn: 0.1055140\ttotal: 137ms\tremaining: 21.1ms\n",
      "130:\tlearn: 0.1046628\ttotal: 138ms\tremaining: 20ms\n",
      "131:\tlearn: 0.1038609\ttotal: 139ms\tremaining: 19ms\n",
      "132:\tlearn: 0.1028776\ttotal: 140ms\tremaining: 17.9ms\n",
      "133:\tlearn: 0.1018379\ttotal: 141ms\tremaining: 16.8ms\n",
      "134:\tlearn: 0.1008395\ttotal: 141ms\tremaining: 15.7ms\n",
      "135:\tlearn: 0.1000873\ttotal: 142ms\tremaining: 14.6ms\n",
      "136:\tlearn: 0.0987672\ttotal: 143ms\tremaining: 13.6ms\n",
      "137:\tlearn: 0.0977186\ttotal: 144ms\tremaining: 12.5ms\n",
      "138:\tlearn: 0.0966297\ttotal: 145ms\tremaining: 11.4ms\n",
      "139:\tlearn: 0.0957710\ttotal: 145ms\tremaining: 10.4ms\n",
      "140:\tlearn: 0.0946722\ttotal: 146ms\tremaining: 9.33ms\n",
      "141:\tlearn: 0.0936611\ttotal: 147ms\tremaining: 8.28ms\n",
      "142:\tlearn: 0.0928450\ttotal: 148ms\tremaining: 7.23ms\n",
      "143:\tlearn: 0.0919361\ttotal: 149ms\tremaining: 6.19ms\n",
      "144:\tlearn: 0.0913125\ttotal: 149ms\tremaining: 5.15ms\n",
      "145:\tlearn: 0.0901589\ttotal: 150ms\tremaining: 4.12ms\n",
      "146:\tlearn: 0.0893988\ttotal: 151ms\tremaining: 3.08ms\n",
      "147:\tlearn: 0.0888384\ttotal: 152ms\tremaining: 2.05ms\n",
      "148:\tlearn: 0.0881468\ttotal: 153ms\tremaining: 1.02ms\n",
      "149:\tlearn: 0.0873712\ttotal: 153ms\tremaining: 0us\n",
      "0:\tlearn: 1.5440316\ttotal: 1.25ms\tremaining: 186ms\n",
      "1:\tlearn: 1.4789478\ttotal: 2.11ms\tremaining: 156ms\n",
      "2:\tlearn: 1.4227467\ttotal: 2.92ms\tremaining: 143ms\n",
      "3:\tlearn: 1.3636890\ttotal: 3.77ms\tremaining: 138ms\n",
      "4:\tlearn: 1.3112819\ttotal: 4.83ms\tremaining: 140ms\n",
      "5:\tlearn: 1.2683100\ttotal: 5.77ms\tremaining: 139ms\n",
      "6:\tlearn: 1.2185893\ttotal: 6.62ms\tremaining: 135ms\n",
      "7:\tlearn: 1.1701617\ttotal: 7.12ms\tremaining: 126ms\n",
      "8:\tlearn: 1.1246821\ttotal: 7.92ms\tremaining: 124ms\n",
      "9:\tlearn: 1.0922091\ttotal: 8.72ms\tremaining: 122ms\n",
      "10:\tlearn: 1.0534006\ttotal: 9.66ms\tremaining: 122ms\n",
      "11:\tlearn: 1.0155899\ttotal: 10.5ms\tremaining: 121ms\n",
      "12:\tlearn: 0.9785126\ttotal: 11.6ms\tremaining: 122ms\n",
      "13:\tlearn: 0.9462002\ttotal: 12.5ms\tremaining: 122ms\n",
      "14:\tlearn: 0.9182389\ttotal: 13.3ms\tremaining: 120ms\n",
      "15:\tlearn: 0.8902850\ttotal: 14.2ms\tremaining: 119ms\n",
      "16:\tlearn: 0.8658516\ttotal: 15ms\tremaining: 117ms\n",
      "17:\tlearn: 0.8417907\ttotal: 15.8ms\tremaining: 116ms\n",
      "18:\tlearn: 0.8225776\ttotal: 16.6ms\tremaining: 114ms\n",
      "19:\tlearn: 0.7956355\ttotal: 17.6ms\tremaining: 115ms\n",
      "20:\tlearn: 0.7693945\ttotal: 18.7ms\tremaining: 115ms\n",
      "21:\tlearn: 0.7456420\ttotal: 19.5ms\tremaining: 114ms\n",
      "22:\tlearn: 0.7278366\ttotal: 20.3ms\tremaining: 112ms\n",
      "23:\tlearn: 0.7087491\ttotal: 21.1ms\tremaining: 111ms\n",
      "24:\tlearn: 0.6880492\ttotal: 21.9ms\tremaining: 110ms\n",
      "25:\tlearn: 0.6723940\ttotal: 22.7ms\tremaining: 108ms\n",
      "26:\tlearn: 0.6520126\ttotal: 23.9ms\tremaining: 109ms\n",
      "27:\tlearn: 0.6332802\ttotal: 24.8ms\tremaining: 108ms\n",
      "28:\tlearn: 0.6173123\ttotal: 25.7ms\tremaining: 107ms\n",
      "29:\tlearn: 0.6015248\ttotal: 26.6ms\tremaining: 106ms\n",
      "30:\tlearn: 0.5890100\ttotal: 27.4ms\tremaining: 105ms\n",
      "31:\tlearn: 0.5724192\ttotal: 28.2ms\tremaining: 104ms\n",
      "32:\tlearn: 0.5586564\ttotal: 29.2ms\tremaining: 103ms\n",
      "33:\tlearn: 0.5452405\ttotal: 30.3ms\tremaining: 103ms\n",
      "34:\tlearn: 0.5332789\ttotal: 31.3ms\tremaining: 103ms\n",
      "35:\tlearn: 0.5229886\ttotal: 32.3ms\tremaining: 102ms\n",
      "36:\tlearn: 0.5124659\ttotal: 33.1ms\tremaining: 101ms\n",
      "37:\tlearn: 0.5001414\ttotal: 33.9ms\tremaining: 99.8ms\n",
      "38:\tlearn: 0.4911654\ttotal: 34.7ms\tremaining: 98.6ms\n",
      "39:\tlearn: 0.4818312\ttotal: 35.5ms\tremaining: 97.5ms\n",
      "40:\tlearn: 0.4710991\ttotal: 36.3ms\tremaining: 96.4ms\n",
      "41:\tlearn: 0.4628264\ttotal: 37.3ms\tremaining: 95.8ms\n",
      "42:\tlearn: 0.4528253\ttotal: 37.8ms\tremaining: 94ms\n",
      "43:\tlearn: 0.4443098\ttotal: 38.5ms\tremaining: 92.9ms\n",
      "44:\tlearn: 0.4362250\ttotal: 39.3ms\tremaining: 91.8ms\n",
      "45:\tlearn: 0.4300047\ttotal: 40.1ms\tremaining: 90.7ms\n",
      "46:\tlearn: 0.4223361\ttotal: 40.9ms\tremaining: 89.7ms\n",
      "47:\tlearn: 0.4143320\ttotal: 41.7ms\tremaining: 88.6ms\n",
      "48:\tlearn: 0.4063589\ttotal: 42.5ms\tremaining: 87.6ms\n",
      "49:\tlearn: 0.3982938\ttotal: 43.3ms\tremaining: 86.5ms\n",
      "50:\tlearn: 0.3902366\ttotal: 44.1ms\tremaining: 85.5ms\n",
      "51:\tlearn: 0.3827179\ttotal: 44.9ms\tremaining: 84.6ms\n",
      "52:\tlearn: 0.3752829\ttotal: 45.6ms\tremaining: 83.5ms\n",
      "53:\tlearn: 0.3660212\ttotal: 46.4ms\tremaining: 82.6ms\n",
      "54:\tlearn: 0.3601212\ttotal: 47.2ms\tremaining: 81.6ms\n",
      "55:\tlearn: 0.3530147\ttotal: 48ms\tremaining: 80.6ms\n",
      "56:\tlearn: 0.3481392\ttotal: 48.8ms\tremaining: 79.6ms\n",
      "57:\tlearn: 0.3418282\ttotal: 49.6ms\tremaining: 78.6ms\n",
      "58:\tlearn: 0.3360813\ttotal: 50.4ms\tremaining: 77.8ms\n",
      "59:\tlearn: 0.3310599\ttotal: 51.4ms\tremaining: 77ms\n",
      "60:\tlearn: 0.3254350\ttotal: 52.2ms\tremaining: 76.1ms\n",
      "61:\tlearn: 0.3201086\ttotal: 53ms\tremaining: 75.2ms\n",
      "62:\tlearn: 0.3136482\ttotal: 53.8ms\tremaining: 74.2ms\n",
      "63:\tlearn: 0.3093831\ttotal: 54.5ms\tremaining: 73.3ms\n",
      "64:\tlearn: 0.3040357\ttotal: 55.4ms\tremaining: 72.4ms\n",
      "65:\tlearn: 0.2977194\ttotal: 56.1ms\tremaining: 71.5ms\n",
      "66:\tlearn: 0.2923547\ttotal: 56.9ms\tremaining: 70.5ms\n",
      "67:\tlearn: 0.2885744\ttotal: 57.7ms\tremaining: 69.6ms\n",
      "68:\tlearn: 0.2849741\ttotal: 58.5ms\tremaining: 68.7ms\n",
      "69:\tlearn: 0.2806561\ttotal: 59.3ms\tremaining: 67.7ms\n",
      "70:\tlearn: 0.2755168\ttotal: 60.1ms\tremaining: 66.8ms\n",
      "71:\tlearn: 0.2701804\ttotal: 60.9ms\tremaining: 65.9ms\n",
      "72:\tlearn: 0.2654703\ttotal: 61.7ms\tremaining: 65.1ms\n",
      "73:\tlearn: 0.2603758\ttotal: 62.5ms\tremaining: 64.2ms\n",
      "74:\tlearn: 0.2550319\ttotal: 63.3ms\tremaining: 63.3ms\n",
      "75:\tlearn: 0.2502426\ttotal: 64.1ms\tremaining: 62.4ms\n",
      "76:\tlearn: 0.2451134\ttotal: 65ms\tremaining: 61.6ms\n",
      "77:\tlearn: 0.2413828\ttotal: 65.8ms\tremaining: 60.8ms\n",
      "78:\tlearn: 0.2374701\ttotal: 66.6ms\tremaining: 59.9ms\n",
      "79:\tlearn: 0.2341571\ttotal: 67.4ms\tremaining: 59ms\n",
      "80:\tlearn: 0.2302437\ttotal: 68.2ms\tremaining: 58.1ms\n",
      "81:\tlearn: 0.2268639\ttotal: 69ms\tremaining: 57.2ms\n",
      "82:\tlearn: 0.2234032\ttotal: 69.8ms\tremaining: 56.3ms\n",
      "83:\tlearn: 0.2196324\ttotal: 70.6ms\tremaining: 55.5ms\n",
      "84:\tlearn: 0.2161372\ttotal: 71.4ms\tremaining: 54.6ms\n",
      "85:\tlearn: 0.2127633\ttotal: 72.2ms\tremaining: 53.8ms\n",
      "86:\tlearn: 0.2095728\ttotal: 73.1ms\tremaining: 52.9ms\n",
      "87:\tlearn: 0.2061516\ttotal: 73.8ms\tremaining: 52ms\n",
      "88:\tlearn: 0.2027333\ttotal: 74.6ms\tremaining: 51.2ms\n",
      "89:\tlearn: 0.1998649\ttotal: 75.1ms\tremaining: 50.1ms\n",
      "90:\tlearn: 0.1969581\ttotal: 75.9ms\tremaining: 49.2ms\n",
      "91:\tlearn: 0.1940459\ttotal: 76.7ms\tremaining: 48.4ms\n",
      "92:\tlearn: 0.1911089\ttotal: 77.5ms\tremaining: 47.5ms\n",
      "93:\tlearn: 0.1883565\ttotal: 78.4ms\tremaining: 46.7ms\n",
      "94:\tlearn: 0.1859947\ttotal: 79.2ms\tremaining: 45.8ms\n",
      "95:\tlearn: 0.1837858\ttotal: 80ms\tremaining: 45ms\n",
      "96:\tlearn: 0.1809205\ttotal: 80.8ms\tremaining: 44.2ms\n",
      "97:\tlearn: 0.1787199\ttotal: 81.6ms\tremaining: 43.3ms\n",
      "98:\tlearn: 0.1764554\ttotal: 82.4ms\tremaining: 42.5ms\n",
      "99:\tlearn: 0.1737461\ttotal: 83.2ms\tremaining: 41.6ms\n",
      "100:\tlearn: 0.1717546\ttotal: 84ms\tremaining: 40.8ms\n",
      "101:\tlearn: 0.1698481\ttotal: 84.8ms\tremaining: 39.9ms\n",
      "102:\tlearn: 0.1679468\ttotal: 85.6ms\tremaining: 39ms\n",
      "103:\tlearn: 0.1659405\ttotal: 85.9ms\tremaining: 38ms\n",
      "104:\tlearn: 0.1636447\ttotal: 86.7ms\tremaining: 37.2ms\n",
      "105:\tlearn: 0.1620059\ttotal: 87.5ms\tremaining: 36.3ms\n",
      "106:\tlearn: 0.1601800\ttotal: 88.3ms\tremaining: 35.5ms\n",
      "107:\tlearn: 0.1586127\ttotal: 89.1ms\tremaining: 34.6ms\n",
      "108:\tlearn: 0.1566310\ttotal: 89.9ms\tremaining: 33.8ms\n",
      "109:\tlearn: 0.1548471\ttotal: 90.7ms\tremaining: 33ms\n",
      "110:\tlearn: 0.1531495\ttotal: 91.5ms\tremaining: 32.1ms\n",
      "111:\tlearn: 0.1514600\ttotal: 92.3ms\tremaining: 31.3ms\n",
      "112:\tlearn: 0.1497289\ttotal: 93.1ms\tremaining: 30.5ms\n",
      "113:\tlearn: 0.1479631\ttotal: 93.9ms\tremaining: 29.7ms\n",
      "114:\tlearn: 0.1462541\ttotal: 94.9ms\tremaining: 28.9ms\n",
      "115:\tlearn: 0.1450883\ttotal: 95.7ms\tremaining: 28ms\n",
      "116:\tlearn: 0.1433030\ttotal: 96.5ms\tremaining: 27.2ms\n",
      "117:\tlearn: 0.1416194\ttotal: 97.3ms\tremaining: 26.4ms\n",
      "118:\tlearn: 0.1399427\ttotal: 98.1ms\tremaining: 25.5ms\n",
      "119:\tlearn: 0.1380584\ttotal: 98.9ms\tremaining: 24.7ms\n",
      "120:\tlearn: 0.1364923\ttotal: 99.7ms\tremaining: 23.9ms\n",
      "121:\tlearn: 0.1352593\ttotal: 100ms\tremaining: 23.1ms\n",
      "122:\tlearn: 0.1332886\ttotal: 101ms\tremaining: 22.2ms\n",
      "123:\tlearn: 0.1314227\ttotal: 102ms\tremaining: 21.4ms\n",
      "124:\tlearn: 0.1300992\ttotal: 103ms\tremaining: 20.5ms\n",
      "125:\tlearn: 0.1287238\ttotal: 103ms\tremaining: 19.7ms\n",
      "126:\tlearn: 0.1275245\ttotal: 104ms\tremaining: 18.9ms\n",
      "127:\tlearn: 0.1262414\ttotal: 105ms\tremaining: 18ms\n",
      "128:\tlearn: 0.1248777\ttotal: 106ms\tremaining: 17.2ms\n",
      "129:\tlearn: 0.1237097\ttotal: 107ms\tremaining: 16.4ms\n",
      "130:\tlearn: 0.1221330\ttotal: 107ms\tremaining: 15.6ms\n",
      "131:\tlearn: 0.1209062\ttotal: 108ms\tremaining: 14.7ms\n",
      "132:\tlearn: 0.1198578\ttotal: 109ms\tremaining: 13.9ms\n",
      "133:\tlearn: 0.1189197\ttotal: 110ms\tremaining: 13.1ms\n",
      "134:\tlearn: 0.1177647\ttotal: 111ms\tremaining: 12.3ms\n",
      "135:\tlearn: 0.1164693\ttotal: 111ms\tremaining: 11.5ms\n",
      "136:\tlearn: 0.1152649\ttotal: 112ms\tremaining: 10.6ms\n",
      "137:\tlearn: 0.1140766\ttotal: 113ms\tremaining: 9.83ms\n",
      "138:\tlearn: 0.1131629\ttotal: 114ms\tremaining: 9.01ms\n",
      "139:\tlearn: 0.1118853\ttotal: 115ms\tremaining: 8.19ms\n",
      "140:\tlearn: 0.1110621\ttotal: 116ms\tremaining: 7.37ms\n",
      "141:\tlearn: 0.1100138\ttotal: 116ms\tremaining: 6.55ms\n",
      "142:\tlearn: 0.1090747\ttotal: 117ms\tremaining: 5.73ms\n",
      "143:\tlearn: 0.1080935\ttotal: 118ms\tremaining: 4.91ms\n",
      "144:\tlearn: 0.1071429\ttotal: 119ms\tremaining: 4.09ms\n",
      "145:\tlearn: 0.1064698\ttotal: 120ms\tremaining: 3.27ms\n",
      "146:\tlearn: 0.1054387\ttotal: 120ms\tremaining: 2.46ms\n",
      "147:\tlearn: 0.1045148\ttotal: 121ms\tremaining: 1.64ms\n",
      "148:\tlearn: 0.1035061\ttotal: 122ms\tremaining: 818us\n",
      "149:\tlearn: 0.1024150\ttotal: 123ms\tremaining: 0us\n"
     ]
    },
    {
     "name": "stdout",
     "output_type": "stream",
     "text": [
      "0:\tlearn: 1.5420091\ttotal: 4.83ms\tremaining: 719ms\n",
      "1:\tlearn: 1.4829048\ttotal: 9.4ms\tremaining: 696ms\n",
      "2:\tlearn: 1.4321790\ttotal: 13.9ms\tremaining: 683ms\n",
      "3:\tlearn: 1.3741879\ttotal: 18.2ms\tremaining: 665ms\n",
      "4:\tlearn: 1.3214725\ttotal: 22.7ms\tremaining: 659ms\n",
      "5:\tlearn: 1.2742947\ttotal: 27.4ms\tremaining: 659ms\n",
      "6:\tlearn: 1.2273853\ttotal: 31.9ms\tremaining: 651ms\n",
      "7:\tlearn: 1.1755875\ttotal: 36.4ms\tremaining: 647ms\n",
      "8:\tlearn: 1.1402422\ttotal: 40.8ms\tremaining: 640ms\n",
      "9:\tlearn: 1.1008612\ttotal: 44.1ms\tremaining: 617ms\n",
      "10:\tlearn: 1.0603530\ttotal: 47ms\tremaining: 595ms\n",
      "11:\tlearn: 1.0226584\ttotal: 49.5ms\tremaining: 569ms\n",
      "12:\tlearn: 0.9936640\ttotal: 51.9ms\tremaining: 547ms\n",
      "13:\tlearn: 0.9617078\ttotal: 54ms\tremaining: 524ms\n",
      "14:\tlearn: 0.9320332\ttotal: 56.1ms\tremaining: 505ms\n",
      "15:\tlearn: 0.9032091\ttotal: 58.2ms\tremaining: 487ms\n",
      "16:\tlearn: 0.8728402\ttotal: 60.1ms\tremaining: 470ms\n",
      "17:\tlearn: 0.8414178\ttotal: 61.8ms\tremaining: 453ms\n",
      "18:\tlearn: 0.8222057\ttotal: 63.4ms\tremaining: 437ms\n",
      "19:\tlearn: 0.8018592\ttotal: 64.3ms\tremaining: 418ms\n",
      "20:\tlearn: 0.7796076\ttotal: 65.2ms\tremaining: 401ms\n",
      "21:\tlearn: 0.7559759\ttotal: 66.1ms\tremaining: 385ms\n",
      "22:\tlearn: 0.7369630\ttotal: 66.9ms\tremaining: 370ms\n",
      "23:\tlearn: 0.7230012\ttotal: 67.8ms\tremaining: 356ms\n",
      "24:\tlearn: 0.7022684\ttotal: 68.7ms\tremaining: 343ms\n",
      "25:\tlearn: 0.6877706\ttotal: 69.5ms\tremaining: 332ms\n",
      "26:\tlearn: 0.6692026\ttotal: 70.4ms\tremaining: 321ms\n",
      "27:\tlearn: 0.6571370\ttotal: 71.3ms\tremaining: 310ms\n",
      "28:\tlearn: 0.6440803\ttotal: 72.1ms\tremaining: 301ms\n",
      "29:\tlearn: 0.6304929\ttotal: 72.9ms\tremaining: 291ms\n",
      "30:\tlearn: 0.6158424\ttotal: 73.7ms\tremaining: 283ms\n",
      "31:\tlearn: 0.6032169\ttotal: 74.5ms\tremaining: 275ms\n",
      "32:\tlearn: 0.5859269\ttotal: 75.3ms\tremaining: 267ms\n",
      "33:\tlearn: 0.5714440\ttotal: 76.1ms\tremaining: 260ms\n",
      "34:\tlearn: 0.5629386\ttotal: 76.9ms\tremaining: 253ms\n",
      "35:\tlearn: 0.5521111\ttotal: 77.7ms\tremaining: 246ms\n",
      "36:\tlearn: 0.5403499\ttotal: 78.5ms\tremaining: 240ms\n",
      "37:\tlearn: 0.5255814\ttotal: 79.3ms\tremaining: 234ms\n",
      "38:\tlearn: 0.5140653\ttotal: 80.2ms\tremaining: 228ms\n",
      "39:\tlearn: 0.5053451\ttotal: 81ms\tremaining: 223ms\n",
      "40:\tlearn: 0.4954835\ttotal: 81.8ms\tremaining: 217ms\n",
      "41:\tlearn: 0.4835374\ttotal: 82.6ms\tremaining: 212ms\n",
      "42:\tlearn: 0.4729640\ttotal: 83.4ms\tremaining: 208ms\n",
      "43:\tlearn: 0.4634047\ttotal: 84.3ms\tremaining: 203ms\n",
      "44:\tlearn: 0.4505905\ttotal: 85.1ms\tremaining: 199ms\n",
      "45:\tlearn: 0.4432272\ttotal: 85.9ms\tremaining: 194ms\n",
      "46:\tlearn: 0.4334475\ttotal: 86.7ms\tremaining: 190ms\n",
      "47:\tlearn: 0.4249070\ttotal: 87.5ms\tremaining: 186ms\n",
      "48:\tlearn: 0.4176577\ttotal: 88.3ms\tremaining: 182ms\n",
      "49:\tlearn: 0.4093186\ttotal: 89.1ms\tremaining: 178ms\n",
      "50:\tlearn: 0.4022111\ttotal: 89.9ms\tremaining: 175ms\n",
      "51:\tlearn: 0.3945864\ttotal: 90.7ms\tremaining: 171ms\n",
      "52:\tlearn: 0.3862612\ttotal: 91.5ms\tremaining: 168ms\n",
      "53:\tlearn: 0.3796930\ttotal: 92.4ms\tremaining: 164ms\n",
      "54:\tlearn: 0.3711813\ttotal: 93.2ms\tremaining: 161ms\n",
      "55:\tlearn: 0.3650640\ttotal: 94ms\tremaining: 158ms\n",
      "56:\tlearn: 0.3592249\ttotal: 94.9ms\tremaining: 155ms\n",
      "57:\tlearn: 0.3510569\ttotal: 95.7ms\tremaining: 152ms\n",
      "58:\tlearn: 0.3447428\ttotal: 96.5ms\tremaining: 149ms\n",
      "59:\tlearn: 0.3396285\ttotal: 97.3ms\tremaining: 146ms\n",
      "60:\tlearn: 0.3328787\ttotal: 98.2ms\tremaining: 143ms\n",
      "61:\tlearn: 0.3262587\ttotal: 99.1ms\tremaining: 141ms\n",
      "62:\tlearn: 0.3201684\ttotal: 100ms\tremaining: 138ms\n",
      "63:\tlearn: 0.3138229\ttotal: 101ms\tremaining: 135ms\n",
      "64:\tlearn: 0.3092134\ttotal: 102ms\tremaining: 133ms\n",
      "65:\tlearn: 0.3047071\ttotal: 102ms\tremaining: 130ms\n",
      "66:\tlearn: 0.3001561\ttotal: 103ms\tremaining: 128ms\n",
      "67:\tlearn: 0.2950596\ttotal: 104ms\tremaining: 125ms\n",
      "68:\tlearn: 0.2902817\ttotal: 105ms\tremaining: 123ms\n",
      "69:\tlearn: 0.2850213\ttotal: 106ms\tremaining: 121ms\n",
      "70:\tlearn: 0.2799634\ttotal: 106ms\tremaining: 118ms\n",
      "71:\tlearn: 0.2745593\ttotal: 107ms\tremaining: 116ms\n",
      "72:\tlearn: 0.2697869\ttotal: 108ms\tremaining: 114ms\n",
      "73:\tlearn: 0.2653175\ttotal: 109ms\tremaining: 112ms\n",
      "74:\tlearn: 0.2598047\ttotal: 110ms\tremaining: 110ms\n",
      "75:\tlearn: 0.2554900\ttotal: 110ms\tremaining: 107ms\n",
      "76:\tlearn: 0.2509014\ttotal: 111ms\tremaining: 106ms\n",
      "77:\tlearn: 0.2469071\ttotal: 112ms\tremaining: 104ms\n",
      "78:\tlearn: 0.2433938\ttotal: 113ms\tremaining: 102ms\n",
      "79:\tlearn: 0.2405341\ttotal: 114ms\tremaining: 99.5ms\n",
      "80:\tlearn: 0.2374869\ttotal: 115ms\tremaining: 97.6ms\n",
      "81:\tlearn: 0.2339804\ttotal: 115ms\tremaining: 95.6ms\n",
      "82:\tlearn: 0.2301514\ttotal: 116ms\tremaining: 93.7ms\n",
      "83:\tlearn: 0.2258060\ttotal: 117ms\tremaining: 91.9ms\n",
      "84:\tlearn: 0.2227145\ttotal: 118ms\tremaining: 90ms\n",
      "85:\tlearn: 0.2194218\ttotal: 119ms\tremaining: 88.2ms\n",
      "86:\tlearn: 0.2158447\ttotal: 119ms\tremaining: 86.5ms\n",
      "87:\tlearn: 0.2126004\ttotal: 120ms\tremaining: 84.8ms\n",
      "88:\tlearn: 0.2096179\ttotal: 121ms\tremaining: 83ms\n",
      "89:\tlearn: 0.2068767\ttotal: 122ms\tremaining: 81.3ms\n",
      "90:\tlearn: 0.2042236\ttotal: 123ms\tremaining: 79.6ms\n",
      "91:\tlearn: 0.2009369\ttotal: 124ms\tremaining: 77.9ms\n",
      "92:\tlearn: 0.1976927\ttotal: 124ms\tremaining: 76.2ms\n",
      "93:\tlearn: 0.1947429\ttotal: 125ms\tremaining: 74.5ms\n",
      "94:\tlearn: 0.1922333\ttotal: 126ms\tremaining: 72.9ms\n",
      "95:\tlearn: 0.1895138\ttotal: 127ms\tremaining: 71.3ms\n",
      "96:\tlearn: 0.1868934\ttotal: 128ms\tremaining: 69.7ms\n",
      "97:\tlearn: 0.1849516\ttotal: 128ms\tremaining: 68.1ms\n",
      "98:\tlearn: 0.1825982\ttotal: 129ms\tremaining: 66.5ms\n",
      "99:\tlearn: 0.1801839\ttotal: 130ms\tremaining: 65ms\n",
      "100:\tlearn: 0.1780486\ttotal: 131ms\tremaining: 63.4ms\n",
      "101:\tlearn: 0.1760007\ttotal: 132ms\tremaining: 61.9ms\n",
      "102:\tlearn: 0.1734967\ttotal: 132ms\tremaining: 60.4ms\n",
      "103:\tlearn: 0.1714508\ttotal: 133ms\tremaining: 58.9ms\n",
      "104:\tlearn: 0.1689895\ttotal: 134ms\tremaining: 57.5ms\n",
      "105:\tlearn: 0.1672118\ttotal: 135ms\tremaining: 56ms\n",
      "106:\tlearn: 0.1647478\ttotal: 136ms\tremaining: 54.5ms\n",
      "107:\tlearn: 0.1624880\ttotal: 136ms\tremaining: 53.1ms\n",
      "108:\tlearn: 0.1608626\ttotal: 137ms\tremaining: 51.6ms\n",
      "109:\tlearn: 0.1586618\ttotal: 138ms\tremaining: 50.2ms\n",
      "110:\tlearn: 0.1569134\ttotal: 139ms\tremaining: 48.8ms\n",
      "111:\tlearn: 0.1551800\ttotal: 140ms\tremaining: 47.4ms\n",
      "112:\tlearn: 0.1537205\ttotal: 141ms\tremaining: 46ms\n",
      "113:\tlearn: 0.1520327\ttotal: 141ms\tremaining: 44.6ms\n",
      "114:\tlearn: 0.1505600\ttotal: 142ms\tremaining: 43.3ms\n",
      "115:\tlearn: 0.1489138\ttotal: 143ms\tremaining: 41.9ms\n",
      "116:\tlearn: 0.1471423\ttotal: 144ms\tremaining: 40.6ms\n",
      "117:\tlearn: 0.1451335\ttotal: 145ms\tremaining: 39.2ms\n",
      "118:\tlearn: 0.1432081\ttotal: 145ms\tremaining: 37.9ms\n",
      "119:\tlearn: 0.1412447\ttotal: 146ms\tremaining: 36.6ms\n",
      "120:\tlearn: 0.1396862\ttotal: 147ms\tremaining: 35.3ms\n",
      "121:\tlearn: 0.1383579\ttotal: 148ms\tremaining: 34ms\n",
      "122:\tlearn: 0.1368416\ttotal: 149ms\tremaining: 32.7ms\n",
      "123:\tlearn: 0.1357108\ttotal: 150ms\tremaining: 31.4ms\n",
      "124:\tlearn: 0.1342631\ttotal: 150ms\tremaining: 30.1ms\n",
      "125:\tlearn: 0.1324515\ttotal: 151ms\tremaining: 28.8ms\n",
      "126:\tlearn: 0.1310887\ttotal: 152ms\tremaining: 27.5ms\n",
      "127:\tlearn: 0.1296683\ttotal: 153ms\tremaining: 26.3ms\n",
      "128:\tlearn: 0.1284910\ttotal: 154ms\tremaining: 25ms\n",
      "129:\tlearn: 0.1269577\ttotal: 154ms\tremaining: 23.8ms\n",
      "130:\tlearn: 0.1255333\ttotal: 155ms\tremaining: 22.5ms\n",
      "131:\tlearn: 0.1239986\ttotal: 156ms\tremaining: 21.3ms\n",
      "132:\tlearn: 0.1226245\ttotal: 157ms\tremaining: 20.1ms\n",
      "133:\tlearn: 0.1210510\ttotal: 158ms\tremaining: 18.8ms\n",
      "134:\tlearn: 0.1200448\ttotal: 159ms\tremaining: 17.6ms\n",
      "135:\tlearn: 0.1189078\ttotal: 159ms\tremaining: 16.4ms\n",
      "136:\tlearn: 0.1179233\ttotal: 160ms\tremaining: 15.2ms\n",
      "137:\tlearn: 0.1168102\ttotal: 161ms\tremaining: 14ms\n",
      "138:\tlearn: 0.1156735\ttotal: 162ms\tremaining: 12.8ms\n",
      "139:\tlearn: 0.1143793\ttotal: 163ms\tremaining: 11.6ms\n",
      "140:\tlearn: 0.1130415\ttotal: 164ms\tremaining: 10.4ms\n",
      "141:\tlearn: 0.1120618\ttotal: 164ms\tremaining: 9.26ms\n",
      "142:\tlearn: 0.1110186\ttotal: 165ms\tremaining: 8.09ms\n",
      "143:\tlearn: 0.1102046\ttotal: 166ms\tremaining: 6.92ms\n",
      "144:\tlearn: 0.1092091\ttotal: 167ms\tremaining: 5.75ms\n",
      "145:\tlearn: 0.1081015\ttotal: 168ms\tremaining: 4.59ms\n",
      "146:\tlearn: 0.1070282\ttotal: 168ms\tremaining: 3.44ms\n",
      "147:\tlearn: 0.1060388\ttotal: 169ms\tremaining: 2.29ms\n",
      "148:\tlearn: 0.1050572\ttotal: 170ms\tremaining: 1.14ms\n",
      "149:\tlearn: 0.1042142\ttotal: 171ms\tremaining: 0us\n",
      "0:\tlearn: 1.5484384\ttotal: 5.17ms\tremaining: 771ms\n",
      "1:\tlearn: 1.4792219\ttotal: 9.7ms\tremaining: 718ms\n",
      "2:\tlearn: 1.4262071\ttotal: 14.3ms\tremaining: 699ms\n",
      "3:\tlearn: 1.3785205\ttotal: 19ms\tremaining: 694ms\n",
      "4:\tlearn: 1.3225732\ttotal: 23.3ms\tremaining: 676ms\n",
      "5:\tlearn: 1.2638427\ttotal: 27.8ms\tremaining: 668ms\n",
      "6:\tlearn: 1.2103387\ttotal: 32.2ms\tremaining: 657ms\n",
      "7:\tlearn: 1.1550912\ttotal: 35.1ms\tremaining: 624ms\n",
      "8:\tlearn: 1.1023915\ttotal: 38.9ms\tremaining: 609ms\n",
      "9:\tlearn: 1.0706809\ttotal: 42ms\tremaining: 587ms\n",
      "10:\tlearn: 1.0366670\ttotal: 44.5ms\tremaining: 562ms\n",
      "11:\tlearn: 0.9940309\ttotal: 47ms\tremaining: 540ms\n",
      "12:\tlearn: 0.9604205\ttotal: 49.4ms\tremaining: 520ms\n",
      "13:\tlearn: 0.9238353\ttotal: 51.3ms\tremaining: 499ms\n",
      "14:\tlearn: 0.8884015\ttotal: 53.1ms\tremaining: 478ms\n",
      "15:\tlearn: 0.8597346\ttotal: 54.2ms\tremaining: 454ms\n",
      "16:\tlearn: 0.8394375\ttotal: 55ms\tremaining: 430ms\n",
      "17:\tlearn: 0.8170267\ttotal: 55.8ms\tremaining: 409ms\n",
      "18:\tlearn: 0.7910600\ttotal: 56.6ms\tremaining: 390ms\n",
      "19:\tlearn: 0.7629250\ttotal: 57.4ms\tremaining: 373ms\n",
      "20:\tlearn: 0.7407321\ttotal: 58.2ms\tremaining: 358ms\n",
      "21:\tlearn: 0.7187639\ttotal: 59ms\tremaining: 344ms\n",
      "22:\tlearn: 0.6988327\ttotal: 59.9ms\tremaining: 331ms\n",
      "23:\tlearn: 0.6811793\ttotal: 60.7ms\tremaining: 319ms\n",
      "24:\tlearn: 0.6605690\ttotal: 61.5ms\tremaining: 308ms\n",
      "25:\tlearn: 0.6453231\ttotal: 62.4ms\tremaining: 297ms\n",
      "26:\tlearn: 0.6296322\ttotal: 63.4ms\tremaining: 289ms\n",
      "27:\tlearn: 0.6132904\ttotal: 64.1ms\tremaining: 279ms\n",
      "28:\tlearn: 0.5983652\ttotal: 65.2ms\tremaining: 272ms\n",
      "29:\tlearn: 0.5865844\ttotal: 66.2ms\tremaining: 265ms\n",
      "30:\tlearn: 0.5722189\ttotal: 67.1ms\tremaining: 258ms\n",
      "31:\tlearn: 0.5581319\ttotal: 67.9ms\tremaining: 251ms\n",
      "32:\tlearn: 0.5449401\ttotal: 68.9ms\tremaining: 244ms\n",
      "33:\tlearn: 0.5309476\ttotal: 69.8ms\tremaining: 238ms\n",
      "34:\tlearn: 0.5181848\ttotal: 70.7ms\tremaining: 232ms\n",
      "35:\tlearn: 0.5043364\ttotal: 71.5ms\tremaining: 226ms\n",
      "36:\tlearn: 0.4943873\ttotal: 72.3ms\tremaining: 221ms\n",
      "37:\tlearn: 0.4825235\ttotal: 73.1ms\tremaining: 215ms\n",
      "38:\tlearn: 0.4699729\ttotal: 73.9ms\tremaining: 210ms\n",
      "39:\tlearn: 0.4588373\ttotal: 74.7ms\tremaining: 205ms\n",
      "40:\tlearn: 0.4474536\ttotal: 75.5ms\tremaining: 201ms\n",
      "41:\tlearn: 0.4379287\ttotal: 76.2ms\tremaining: 196ms\n",
      "42:\tlearn: 0.4302381\ttotal: 77ms\tremaining: 192ms\n",
      "43:\tlearn: 0.4215774\ttotal: 77.9ms\tremaining: 188ms\n",
      "44:\tlearn: 0.4142013\ttotal: 78.7ms\tremaining: 184ms\n",
      "45:\tlearn: 0.4066415\ttotal: 79.5ms\tremaining: 180ms\n",
      "46:\tlearn: 0.3984813\ttotal: 80.3ms\tremaining: 176ms\n",
      "47:\tlearn: 0.3900957\ttotal: 81.2ms\tremaining: 172ms\n",
      "48:\tlearn: 0.3813843\ttotal: 82ms\tremaining: 169ms\n",
      "49:\tlearn: 0.3717298\ttotal: 82.8ms\tremaining: 166ms\n",
      "50:\tlearn: 0.3660746\ttotal: 83.6ms\tremaining: 162ms\n",
      "51:\tlearn: 0.3583382\ttotal: 84.4ms\tremaining: 159ms\n",
      "52:\tlearn: 0.3511075\ttotal: 85.2ms\tremaining: 156ms\n",
      "53:\tlearn: 0.3438736\ttotal: 86.1ms\tremaining: 153ms\n",
      "54:\tlearn: 0.3376477\ttotal: 86.9ms\tremaining: 150ms\n",
      "55:\tlearn: 0.3322267\ttotal: 87.7ms\tremaining: 147ms\n",
      "56:\tlearn: 0.3259850\ttotal: 88.5ms\tremaining: 144ms\n",
      "57:\tlearn: 0.3184137\ttotal: 89.4ms\tremaining: 142ms\n",
      "58:\tlearn: 0.3127650\ttotal: 90.2ms\tremaining: 139ms\n",
      "59:\tlearn: 0.3072381\ttotal: 91ms\tremaining: 137ms\n",
      "60:\tlearn: 0.3018832\ttotal: 91.9ms\tremaining: 134ms\n",
      "61:\tlearn: 0.2968926\ttotal: 92.7ms\tremaining: 132ms\n",
      "62:\tlearn: 0.2922702\ttotal: 93.5ms\tremaining: 129ms\n",
      "63:\tlearn: 0.2880283\ttotal: 94.3ms\tremaining: 127ms\n",
      "64:\tlearn: 0.2838222\ttotal: 95.1ms\tremaining: 124ms\n",
      "65:\tlearn: 0.2789598\ttotal: 95.9ms\tremaining: 122ms\n",
      "66:\tlearn: 0.2742826\ttotal: 96.7ms\tremaining: 120ms\n",
      "67:\tlearn: 0.2699888\ttotal: 97.5ms\tremaining: 118ms\n",
      "68:\tlearn: 0.2656466\ttotal: 98.3ms\tremaining: 115ms\n",
      "69:\tlearn: 0.2616098\ttotal: 99.1ms\tremaining: 113ms\n",
      "70:\tlearn: 0.2576923\ttotal: 99.9ms\tremaining: 111ms\n",
      "71:\tlearn: 0.2539006\ttotal: 101ms\tremaining: 109ms\n",
      "72:\tlearn: 0.2502805\ttotal: 102ms\tremaining: 107ms\n",
      "73:\tlearn: 0.2466862\ttotal: 102ms\tremaining: 105ms\n",
      "74:\tlearn: 0.2417494\ttotal: 103ms\tremaining: 103ms\n",
      "75:\tlearn: 0.2382959\ttotal: 104ms\tremaining: 101ms\n",
      "76:\tlearn: 0.2337384\ttotal: 105ms\tremaining: 99.4ms\n",
      "77:\tlearn: 0.2291036\ttotal: 106ms\tremaining: 97.6ms\n",
      "78:\tlearn: 0.2257243\ttotal: 107ms\tremaining: 95.9ms\n",
      "79:\tlearn: 0.2223577\ttotal: 108ms\tremaining: 94.1ms\n",
      "80:\tlearn: 0.2192678\ttotal: 108ms\tremaining: 92.3ms\n",
      "81:\tlearn: 0.2156131\ttotal: 109ms\tremaining: 90.6ms\n",
      "82:\tlearn: 0.2128852\ttotal: 110ms\tremaining: 88.8ms\n",
      "83:\tlearn: 0.2097895\ttotal: 111ms\tremaining: 87.1ms\n",
      "84:\tlearn: 0.2067768\ttotal: 112ms\tremaining: 85.3ms\n",
      "85:\tlearn: 0.2027134\ttotal: 112ms\tremaining: 83.7ms\n",
      "86:\tlearn: 0.1989153\ttotal: 113ms\tremaining: 82ms\n",
      "87:\tlearn: 0.1964563\ttotal: 114ms\tremaining: 80.3ms\n",
      "88:\tlearn: 0.1937417\ttotal: 115ms\tremaining: 78.7ms\n",
      "89:\tlearn: 0.1913426\ttotal: 116ms\tremaining: 77.1ms\n",
      "90:\tlearn: 0.1893771\ttotal: 116ms\tremaining: 75.5ms\n",
      "91:\tlearn: 0.1868154\ttotal: 117ms\tremaining: 73.9ms\n",
      "92:\tlearn: 0.1842266\ttotal: 118ms\tremaining: 72.4ms\n",
      "93:\tlearn: 0.1823467\ttotal: 119ms\tremaining: 70.9ms\n",
      "94:\tlearn: 0.1795717\ttotal: 120ms\tremaining: 69.4ms\n",
      "95:\tlearn: 0.1772960\ttotal: 121ms\tremaining: 67.9ms\n",
      "96:\tlearn: 0.1749767\ttotal: 122ms\tremaining: 66.4ms\n",
      "97:\tlearn: 0.1731978\ttotal: 122ms\tremaining: 64.9ms\n",
      "98:\tlearn: 0.1710439\ttotal: 123ms\tremaining: 63.4ms\n",
      "99:\tlearn: 0.1690907\ttotal: 124ms\tremaining: 62ms\n",
      "100:\tlearn: 0.1665810\ttotal: 125ms\tremaining: 60.5ms\n",
      "101:\tlearn: 0.1642824\ttotal: 126ms\tremaining: 59.1ms\n",
      "102:\tlearn: 0.1623081\ttotal: 126ms\tremaining: 57.7ms\n",
      "103:\tlearn: 0.1603153\ttotal: 127ms\tremaining: 56.3ms\n",
      "104:\tlearn: 0.1582389\ttotal: 128ms\tremaining: 54.9ms\n",
      "105:\tlearn: 0.1564063\ttotal: 129ms\tremaining: 53.6ms\n",
      "106:\tlearn: 0.1548449\ttotal: 130ms\tremaining: 52.2ms\n",
      "107:\tlearn: 0.1530712\ttotal: 131ms\tremaining: 50.8ms\n",
      "108:\tlearn: 0.1510153\ttotal: 132ms\tremaining: 49.5ms\n",
      "109:\tlearn: 0.1491413\ttotal: 132ms\tremaining: 48.2ms\n",
      "110:\tlearn: 0.1476034\ttotal: 133ms\tremaining: 46.8ms\n",
      "111:\tlearn: 0.1459188\ttotal: 134ms\tremaining: 45.5ms\n",
      "112:\tlearn: 0.1441885\ttotal: 135ms\tremaining: 44.2ms\n",
      "113:\tlearn: 0.1425535\ttotal: 136ms\tremaining: 42.9ms\n",
      "114:\tlearn: 0.1410534\ttotal: 137ms\tremaining: 41.7ms\n",
      "115:\tlearn: 0.1390135\ttotal: 138ms\tremaining: 40.4ms\n",
      "116:\tlearn: 0.1375574\ttotal: 139ms\tremaining: 39.1ms\n",
      "117:\tlearn: 0.1359267\ttotal: 140ms\tremaining: 37.9ms\n",
      "118:\tlearn: 0.1346553\ttotal: 141ms\tremaining: 36.6ms\n",
      "119:\tlearn: 0.1332421\ttotal: 141ms\tremaining: 35.4ms\n",
      "120:\tlearn: 0.1320522\ttotal: 142ms\tremaining: 34.1ms\n",
      "121:\tlearn: 0.1307603\ttotal: 143ms\tremaining: 32.9ms\n",
      "122:\tlearn: 0.1289945\ttotal: 144ms\tremaining: 31.6ms\n",
      "123:\tlearn: 0.1270710\ttotal: 145ms\tremaining: 30.4ms\n",
      "124:\tlearn: 0.1259399\ttotal: 146ms\tremaining: 29.1ms\n",
      "125:\tlearn: 0.1249755\ttotal: 147ms\tremaining: 27.9ms\n",
      "126:\tlearn: 0.1238034\ttotal: 147ms\tremaining: 26.7ms\n",
      "127:\tlearn: 0.1226263\ttotal: 148ms\tremaining: 25.5ms\n",
      "128:\tlearn: 0.1214996\ttotal: 149ms\tremaining: 24.3ms\n",
      "129:\tlearn: 0.1199921\ttotal: 150ms\tremaining: 23.1ms\n",
      "130:\tlearn: 0.1189248\ttotal: 151ms\tremaining: 21.9ms\n",
      "131:\tlearn: 0.1177707\ttotal: 152ms\tremaining: 20.7ms\n",
      "132:\tlearn: 0.1169573\ttotal: 153ms\tremaining: 19.5ms\n",
      "133:\tlearn: 0.1157737\ttotal: 154ms\tremaining: 18.3ms\n",
      "134:\tlearn: 0.1146741\ttotal: 155ms\tremaining: 17.2ms\n",
      "135:\tlearn: 0.1137285\ttotal: 155ms\tremaining: 16ms\n",
      "136:\tlearn: 0.1125732\ttotal: 156ms\tremaining: 14.8ms\n",
      "137:\tlearn: 0.1114843\ttotal: 157ms\tremaining: 13.7ms\n",
      "138:\tlearn: 0.1102789\ttotal: 158ms\tremaining: 12.5ms\n"
     ]
    },
    {
     "name": "stdout",
     "output_type": "stream",
     "text": [
      "139:\tlearn: 0.1094357\ttotal: 159ms\tremaining: 11.4ms\n",
      "140:\tlearn: 0.1084536\ttotal: 160ms\tremaining: 10.2ms\n",
      "141:\tlearn: 0.1072225\ttotal: 161ms\tremaining: 9.07ms\n",
      "142:\tlearn: 0.1062610\ttotal: 162ms\tremaining: 7.94ms\n",
      "143:\tlearn: 0.1054173\ttotal: 163ms\tremaining: 6.8ms\n",
      "144:\tlearn: 0.1045346\ttotal: 164ms\tremaining: 5.66ms\n",
      "145:\tlearn: 0.1034469\ttotal: 165ms\tremaining: 4.52ms\n",
      "146:\tlearn: 0.1026393\ttotal: 166ms\tremaining: 3.38ms\n",
      "147:\tlearn: 0.1017948\ttotal: 167ms\tremaining: 2.25ms\n",
      "148:\tlearn: 0.1009439\ttotal: 167ms\tremaining: 1.12ms\n",
      "149:\tlearn: 0.1002097\ttotal: 168ms\tremaining: 0us\n"
     ]
    },
    {
     "data": {
      "text/html": [
       "<style>#sk-container-id-4 {color: black;background-color: white;}#sk-container-id-4 pre{padding: 0;}#sk-container-id-4 div.sk-toggleable {background-color: white;}#sk-container-id-4 label.sk-toggleable__label {cursor: pointer;display: block;width: 100%;margin-bottom: 0;padding: 0.3em;box-sizing: border-box;text-align: center;}#sk-container-id-4 label.sk-toggleable__label-arrow:before {content: \"▸\";float: left;margin-right: 0.25em;color: #696969;}#sk-container-id-4 label.sk-toggleable__label-arrow:hover:before {color: black;}#sk-container-id-4 div.sk-estimator:hover label.sk-toggleable__label-arrow:before {color: black;}#sk-container-id-4 div.sk-toggleable__content {max-height: 0;max-width: 0;overflow: hidden;text-align: left;background-color: #f0f8ff;}#sk-container-id-4 div.sk-toggleable__content pre {margin: 0.2em;color: black;border-radius: 0.25em;background-color: #f0f8ff;}#sk-container-id-4 input.sk-toggleable__control:checked~div.sk-toggleable__content {max-height: 200px;max-width: 100%;overflow: auto;}#sk-container-id-4 input.sk-toggleable__control:checked~label.sk-toggleable__label-arrow:before {content: \"▾\";}#sk-container-id-4 div.sk-estimator input.sk-toggleable__control:checked~label.sk-toggleable__label {background-color: #d4ebff;}#sk-container-id-4 div.sk-label input.sk-toggleable__control:checked~label.sk-toggleable__label {background-color: #d4ebff;}#sk-container-id-4 input.sk-hidden--visually {border: 0;clip: rect(1px 1px 1px 1px);clip: rect(1px, 1px, 1px, 1px);height: 1px;margin: -1px;overflow: hidden;padding: 0;position: absolute;width: 1px;}#sk-container-id-4 div.sk-estimator {font-family: monospace;background-color: #f0f8ff;border: 1px dotted black;border-radius: 0.25em;box-sizing: border-box;margin-bottom: 0.5em;}#sk-container-id-4 div.sk-estimator:hover {background-color: #d4ebff;}#sk-container-id-4 div.sk-parallel-item::after {content: \"\";width: 100%;border-bottom: 1px solid gray;flex-grow: 1;}#sk-container-id-4 div.sk-label:hover label.sk-toggleable__label {background-color: #d4ebff;}#sk-container-id-4 div.sk-serial::before {content: \"\";position: absolute;border-left: 1px solid gray;box-sizing: border-box;top: 0;bottom: 0;left: 50%;z-index: 0;}#sk-container-id-4 div.sk-serial {display: flex;flex-direction: column;align-items: center;background-color: white;padding-right: 0.2em;padding-left: 0.2em;position: relative;}#sk-container-id-4 div.sk-item {position: relative;z-index: 1;}#sk-container-id-4 div.sk-parallel {display: flex;align-items: stretch;justify-content: center;background-color: white;position: relative;}#sk-container-id-4 div.sk-item::before, #sk-container-id-4 div.sk-parallel-item::before {content: \"\";position: absolute;border-left: 1px solid gray;box-sizing: border-box;top: 0;bottom: 0;left: 50%;z-index: -1;}#sk-container-id-4 div.sk-parallel-item {display: flex;flex-direction: column;z-index: 1;position: relative;background-color: white;}#sk-container-id-4 div.sk-parallel-item:first-child::after {align-self: flex-end;width: 50%;}#sk-container-id-4 div.sk-parallel-item:last-child::after {align-self: flex-start;width: 50%;}#sk-container-id-4 div.sk-parallel-item:only-child::after {width: 0;}#sk-container-id-4 div.sk-dashed-wrapped {border: 1px dashed gray;margin: 0 0.4em 0.5em 0.4em;box-sizing: border-box;padding-bottom: 0.4em;background-color: white;}#sk-container-id-4 div.sk-label label {font-family: monospace;font-weight: bold;display: inline-block;line-height: 1.2em;}#sk-container-id-4 div.sk-label-container {text-align: center;}#sk-container-id-4 div.sk-container {/* jupyter's `normalize.less` sets `[hidden] { display: none; }` but bootstrap.min.css set `[hidden] { display: none !important; }` so we also need the `!important` here to be able to override the default hidden behavior on the sphinx rendered scikit-learn.org. See: https://github.com/scikit-learn/scikit-learn/issues/21755 */display: inline-block !important;position: relative;}#sk-container-id-4 div.sk-text-repr-fallback {display: none;}</style><div id=\"sk-container-id-4\" class=\"sk-top-container\"><div class=\"sk-text-repr-fallback\"><pre>StackingClassifier(estimators=[(&#x27;cat&#x27;,\n",
       "                                &lt;catboost.core.CatBoostClassifier object at 0x000001423C0C7640&gt;),\n",
       "                               (&#x27;svc&#x27;, SVC()),\n",
       "                               (&#x27;clf2&#x27;,\n",
       "                                MLPClassifier(max_iter=120, random_state=1))],\n",
       "                   final_estimator=XGBClassifier(base_score=None, booster=None,\n",
       "                                                 callbacks=None,\n",
       "                                                 colsample_bylevel=None,\n",
       "                                                 colsample_bynode=None,\n",
       "                                                 colsample_bytree=None,\n",
       "                                                 early_stopping_rounds=None,\n",
       "                                                 enable_categori...\n",
       "                                                 gpu_id=None, grow_policy=None,\n",
       "                                                 importance_type=None,\n",
       "                                                 interaction_constraints=None,\n",
       "                                                 learning_rate=0.05,\n",
       "                                                 max_bin=None,\n",
       "                                                 max_cat_threshold=None,\n",
       "                                                 max_cat_to_onehot=None,\n",
       "                                                 max_delta_step=None,\n",
       "                                                 max_depth=None,\n",
       "                                                 max_leaves=None,\n",
       "                                                 min_child_weight=None,\n",
       "                                                 missing=nan,\n",
       "                                                 monotone_constraints=None,\n",
       "                                                 n_estimators=300, n_jobs=None,\n",
       "                                                 num_parallel_tree=None,\n",
       "                                                 objective=&#x27;multi:softprob&#x27;,\n",
       "                                                 predictor=None, ...))</pre><b>In a Jupyter environment, please rerun this cell to show the HTML representation or trust the notebook. <br />On GitHub, the HTML representation is unable to render, please try loading this page with nbviewer.org.</b></div><div class=\"sk-container\" hidden><div class=\"sk-item sk-dashed-wrapped\"><div class=\"sk-label-container\"><div class=\"sk-label sk-toggleable\"><input class=\"sk-toggleable__control sk-hidden--visually\" id=\"sk-estimator-id-4\" type=\"checkbox\" ><label for=\"sk-estimator-id-4\" class=\"sk-toggleable__label sk-toggleable__label-arrow\">StackingClassifier</label><div class=\"sk-toggleable__content\"><pre>StackingClassifier(estimators=[(&#x27;cat&#x27;,\n",
       "                                &lt;catboost.core.CatBoostClassifier object at 0x000001423C0C7640&gt;),\n",
       "                               (&#x27;svc&#x27;, SVC()),\n",
       "                               (&#x27;clf2&#x27;,\n",
       "                                MLPClassifier(max_iter=120, random_state=1))],\n",
       "                   final_estimator=XGBClassifier(base_score=None, booster=None,\n",
       "                                                 callbacks=None,\n",
       "                                                 colsample_bylevel=None,\n",
       "                                                 colsample_bynode=None,\n",
       "                                                 colsample_bytree=None,\n",
       "                                                 early_stopping_rounds=None,\n",
       "                                                 enable_categori...\n",
       "                                                 gpu_id=None, grow_policy=None,\n",
       "                                                 importance_type=None,\n",
       "                                                 interaction_constraints=None,\n",
       "                                                 learning_rate=0.05,\n",
       "                                                 max_bin=None,\n",
       "                                                 max_cat_threshold=None,\n",
       "                                                 max_cat_to_onehot=None,\n",
       "                                                 max_delta_step=None,\n",
       "                                                 max_depth=None,\n",
       "                                                 max_leaves=None,\n",
       "                                                 min_child_weight=None,\n",
       "                                                 missing=nan,\n",
       "                                                 monotone_constraints=None,\n",
       "                                                 n_estimators=300, n_jobs=None,\n",
       "                                                 num_parallel_tree=None,\n",
       "                                                 objective=&#x27;multi:softprob&#x27;,\n",
       "                                                 predictor=None, ...))</pre></div></div></div><div class=\"sk-serial\"><div class=\"sk-item\"><div class=\"sk-parallel\"><div class=\"sk-parallel-item\"><div class=\"sk-item\"><div class=\"sk-label-container\"><div class=\"sk-label sk-toggleable\"><label>cat</label></div></div><div class=\"sk-serial\"><div class=\"sk-item\"><div class=\"sk-estimator sk-toggleable\"><input class=\"sk-toggleable__control sk-hidden--visually\" id=\"sk-estimator-id-5\" type=\"checkbox\" ><label for=\"sk-estimator-id-5\" class=\"sk-toggleable__label sk-toggleable__label-arrow\">CatBoostClassifier</label><div class=\"sk-toggleable__content\"><pre>&lt;catboost.core.CatBoostClassifier object at 0x000001423C0C7640&gt;</pre></div></div></div></div></div></div><div class=\"sk-parallel-item\"><div class=\"sk-item\"><div class=\"sk-label-container\"><div class=\"sk-label sk-toggleable\"><label>svc</label></div></div><div class=\"sk-serial\"><div class=\"sk-item\"><div class=\"sk-estimator sk-toggleable\"><input class=\"sk-toggleable__control sk-hidden--visually\" id=\"sk-estimator-id-6\" type=\"checkbox\" ><label for=\"sk-estimator-id-6\" class=\"sk-toggleable__label sk-toggleable__label-arrow\">SVC</label><div class=\"sk-toggleable__content\"><pre>SVC()</pre></div></div></div></div></div></div><div class=\"sk-parallel-item\"><div class=\"sk-item\"><div class=\"sk-label-container\"><div class=\"sk-label sk-toggleable\"><label>clf2</label></div></div><div class=\"sk-serial\"><div class=\"sk-item\"><div class=\"sk-estimator sk-toggleable\"><input class=\"sk-toggleable__control sk-hidden--visually\" id=\"sk-estimator-id-7\" type=\"checkbox\" ><label for=\"sk-estimator-id-7\" class=\"sk-toggleable__label sk-toggleable__label-arrow\">MLPClassifier</label><div class=\"sk-toggleable__content\"><pre>MLPClassifier(max_iter=120, random_state=1)</pre></div></div></div></div></div></div></div></div><div class=\"sk-item\"><div class=\"sk-parallel\"><div class=\"sk-parallel-item\"><div class=\"sk-item\"><div class=\"sk-label-container\"><div class=\"sk-label sk-toggleable\"><label>final_estimator</label></div></div><div class=\"sk-serial\"><div class=\"sk-item\"><div class=\"sk-estimator sk-toggleable\"><input class=\"sk-toggleable__control sk-hidden--visually\" id=\"sk-estimator-id-8\" type=\"checkbox\" ><label for=\"sk-estimator-id-8\" class=\"sk-toggleable__label sk-toggleable__label-arrow\">XGBClassifier</label><div class=\"sk-toggleable__content\"><pre>XGBClassifier(base_score=None, booster=None, callbacks=None,\n",
       "              colsample_bylevel=None, colsample_bynode=None,\n",
       "              colsample_bytree=None, early_stopping_rounds=None,\n",
       "              enable_categorical=False, eval_metric=None, feature_types=None,\n",
       "              gamma=None, gpu_id=None, grow_policy=None, importance_type=None,\n",
       "              interaction_constraints=None, learning_rate=0.05, max_bin=None,\n",
       "              max_cat_threshold=None, max_cat_to_onehot=None,\n",
       "              max_delta_step=None, max_depth=None, max_leaves=None,\n",
       "              min_child_weight=None, missing=nan, monotone_constraints=None,\n",
       "              n_estimators=300, n_jobs=None, num_parallel_tree=None,\n",
       "              objective=&#x27;multi:softprob&#x27;, predictor=None, ...)</pre></div></div></div></div></div></div></div></div></div></div></div></div>"
      ],
      "text/plain": [
       "StackingClassifier(estimators=[('cat',\n",
       "                                <catboost.core.CatBoostClassifier object at 0x000001423C0C7640>),\n",
       "                               ('svc', SVC()),\n",
       "                               ('clf2',\n",
       "                                MLPClassifier(max_iter=120, random_state=1))],\n",
       "                   final_estimator=XGBClassifier(base_score=None, booster=None,\n",
       "                                                 callbacks=None,\n",
       "                                                 colsample_bylevel=None,\n",
       "                                                 colsample_bynode=None,\n",
       "                                                 colsample_bytree=None,\n",
       "                                                 early_stopping_rounds=None,\n",
       "                                                 enable_categori...\n",
       "                                                 gpu_id=None, grow_policy=None,\n",
       "                                                 importance_type=None,\n",
       "                                                 interaction_constraints=None,\n",
       "                                                 learning_rate=0.05,\n",
       "                                                 max_bin=None,\n",
       "                                                 max_cat_threshold=None,\n",
       "                                                 max_cat_to_onehot=None,\n",
       "                                                 max_delta_step=None,\n",
       "                                                 max_depth=None,\n",
       "                                                 max_leaves=None,\n",
       "                                                 min_child_weight=None,\n",
       "                                                 missing=nan,\n",
       "                                                 monotone_constraints=None,\n",
       "                                                 n_estimators=300, n_jobs=None,\n",
       "                                                 num_parallel_tree=None,\n",
       "                                                 objective='multi:softprob',\n",
       "                                                 predictor=None, ...))"
      ]
     },
     "execution_count": 48,
     "metadata": {},
     "output_type": "execute_result"
    }
   ],
   "source": [
    "from sklearn.ensemble import StackingClassifier\n",
    "stack_model = StackingClassifier( estimators = base ,final_estimator = meta_learner)\n",
    "stack_model.fit(x_train,y_train)"
   ]
  },
  {
   "cell_type": "code",
   "execution_count": 49,
   "metadata": {},
   "outputs": [],
   "source": [
    "stack_pred = stack_model.predict(x_test)"
   ]
  },
  {
   "cell_type": "code",
   "execution_count": 50,
   "metadata": {},
   "outputs": [
    {
     "name": "stdout",
     "output_type": "stream",
     "text": [
      "0.8611111111111112\n",
      "[0.76923077 0.8        1.         0.9        0.90909091]\n",
      "[0.71428571 0.8        1.         0.9        1.        ]\n",
      "[0.83333333 0.8        1.         0.9        0.83333333]\n"
     ]
    }
   ],
   "source": [
    "print(accuracy_score(y_test,stack_pred))\n",
    "print(f1_score(y_test,stack_pred,average=None))\n",
    "print(recall_score(y_test,stack_pred,average=None))\n",
    "print(precision_score(y_test,stack_pred,average=None))"
   ]
  },
  {
   "cell_type": "markdown",
   "metadata": {},
   "source": [
    "# Pickle file"
   ]
  },
  {
   "cell_type": "code",
   "execution_count": 51,
   "metadata": {},
   "outputs": [],
   "source": [
    "import pickle\n",
    "pickle.dump(stack_model,open(\"crop_predict_model.pkl\",\"wb\"))"
   ]
  }
 ],
 "metadata": {
  "kernelspec": {
   "display_name": "Python 3",
   "language": "python",
   "name": "python3"
  },
  "language_info": {
   "codemirror_mode": {
    "name": "ipython",
    "version": 3
   },
   "file_extension": ".py",
   "mimetype": "text/x-python",
   "name": "python",
   "nbconvert_exporter": "python",
   "pygments_lexer": "ipython3",
   "version": "3.8.3"
  }
 },
 "nbformat": 4,
 "nbformat_minor": 4
}
